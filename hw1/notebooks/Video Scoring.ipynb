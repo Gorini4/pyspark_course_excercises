{
 "cells": [
  {
   "cell_type": "markdown",
   "id": "8a11ca2a-b03b-4c2f-a783-313f0985c855",
   "metadata": {},
   "source": [
    "# Загрузка данных"
   ]
  },
  {
   "cell_type": "code",
   "execution_count": 1,
   "id": "2e1276a5-c99f-45c8-8448-91f6aa29e07b",
   "metadata": {},
   "outputs": [],
   "source": [
    "# !pip install kaggle"
   ]
  },
  {
   "cell_type": "markdown",
   "id": "967ab56f-dcdc-4236-b366-64909e1747ab",
   "metadata": {},
   "source": [
    "Нужен свой токен с kaggle"
   ]
  },
  {
   "cell_type": "code",
   "execution_count": 2,
   "id": "5e2c326d-638c-422b-a425-4a953a436b90",
   "metadata": {},
   "outputs": [],
   "source": [
    "!echo '{\"username\":\"\",\"key\":\"\"}' > ../.kaggle/kaggle.json"
   ]
  },
  {
   "cell_type": "code",
   "execution_count": 3,
   "id": "d1da657c-bff4-4d05-bf27-2a3f048a2c25",
   "metadata": {},
   "outputs": [
    {
     "name": "stdout",
     "output_type": "stream",
     "text": [
      "Warning: Your Kaggle API key is readable by other users on this system! To fix this, you can run 'chmod 600 /home/jovyan/.kaggle/kaggle.json'\n",
      "Downloading youtube.zip to ../datasets\n",
      "100%|██████████████████████████████████████| 55.9M/55.9M [00:11<00:00, 5.24MB/s]\n",
      "100%|██████████████████████████████████████| 55.9M/55.9M [00:11<00:00, 5.02MB/s]\n"
     ]
    }
   ],
   "source": [
    "!kaggle datasets download -d datasnaek/youtube -p ../datasets --unzip"
   ]
  },
  {
   "cell_type": "code",
   "execution_count": 4,
   "id": "4b94b2e0-3796-411b-ad82-1b56e7f89e1f",
   "metadata": {},
   "outputs": [],
   "source": [
    "import pyspark\n",
    "import pyspark.sql.functions as F\n",
    "import pyspark.sql.types as T\n",
    "from pyspark.sql import SparkSession\n",
    "\n",
    "spark = SparkSession.builder.master(\"local\") \\\n",
    "    .config('spark.sql.autoBroadcastJoinThreshold', 0) \\\n",
    "    .config('spark.sql.adaptive.enabled', 'false') \\\n",
    "    .getOrCreate()"
   ]
  },
  {
   "cell_type": "markdown",
   "id": "e96426ef-7cb7-4b79-937e-f19f3d1fd9a3",
   "metadata": {},
   "source": [
    "# Задание 1"
   ]
  },
  {
   "cell_type": "markdown",
   "id": "cedf726b-977d-4edd-b226-528dab9aa66a",
   "metadata": {},
   "source": [
    "scored_videos - датасет на основе файла USvideos.csv с добавлением колонки, содержащей скор (показатель качества) видео. Никто не знает, как считать скор, поэтому формулу предлагается придумать вам. Но она должна включать в себя просмотры, лайки, дизлайки видео, лайки и дизлайки к комментариям к этому видео."
   ]
  },
  {
   "cell_type": "code",
   "execution_count": 5,
   "id": "1c2a19f1-09d4-433b-bb14-495e1f69bf43",
   "metadata": {},
   "outputs": [
    {
     "name": "stdout",
     "output_type": "stream",
     "text": [
      "+-----------+--------------------+----------------+-----------+--------------------+-------+------+--------+-------------+--------------------+-----+\n",
      "|   video_id|               title|   channel_title|category_id|                tags|  views| likes|dislikes|comment_total|      thumbnail_link| date|\n",
      "+-----------+--------------------+----------------+-----------+--------------------+-------+------+--------+-------------+--------------------+-----+\n",
      "|XpVt6Z1Gjjo|1 YEAR OF VLOGGIN...|Logan Paul Vlogs|         24|logan paul vlog|l...|4394029|320053|    5931|        46245|https://i.ytimg.c...|13.09|\n",
      "|K4wEI5zhHB0|iPhone X — Introd...|           Apple|         28|Apple|iPhone 10|i...|7860119|185853|   26679|            0|https://i.ytimg.c...|13.09|\n",
      "|cLdxuaxaQwc|         My Response|       PewDiePie|         22|              [none]|5845909|576597|   39774|       170708|https://i.ytimg.c...|13.09|\n",
      "|WYYvHb03Eog|Apple iPhone X fi...|       The Verge|         28|apple iphone x ha...|2642103| 24975|    4542|        12829|https://i.ytimg.c...|13.09|\n",
      "|sjlHnJvXdQs|   iPhone X (parody)|      jacksfilms|         23|jacksfilms|parody...|1168130| 96666|     568|         6666|https://i.ytimg.c...|13.09|\n",
      "+-----------+--------------------+----------------+-----------+--------------------+-------+------+--------+-------------+--------------------+-----+\n",
      "only showing top 5 rows\n",
      "\n"
     ]
    }
   ],
   "source": [
    "videos = spark.read.option('header', 'true').option(\"inferSchema\", \"true\").csv('../datasets/USvideos.csv')\n",
    "videos.show(5)"
   ]
  },
  {
   "cell_type": "code",
   "execution_count": 6,
   "id": "67149cf3-3a98-4679-81ab-4ec159309387",
   "metadata": {},
   "outputs": [
    {
     "data": {
      "text/plain": [
       "(7998, 7997)"
      ]
     },
     "execution_count": 6,
     "metadata": {},
     "output_type": "execute_result"
    }
   ],
   "source": [
    "videos.count(), videos.distinct().count()"
   ]
  },
  {
   "cell_type": "code",
   "execution_count": 7,
   "id": "805005cc-0c92-45e3-ab79-44a348f9c2d3",
   "metadata": {},
   "outputs": [
    {
     "name": "stdout",
     "output_type": "stream",
     "text": [
      "+-----------+--------------------+-----+-------+\n",
      "|   video_id|        comment_text|likes|replies|\n",
      "+-----------+--------------------+-----+-------+\n",
      "|XpVt6Z1Gjjo|Logan Paul it's y...|    4|      0|\n",
      "|XpVt6Z1Gjjo|I've been followi...|    3|      0|\n",
      "|XpVt6Z1Gjjo|Say hi to Kong an...|    3|      0|\n",
      "|XpVt6Z1Gjjo| MY FAN . attendance|    3|      0|\n",
      "|XpVt6Z1Gjjo|         trending 😉|    3|      0|\n",
      "+-----------+--------------------+-----+-------+\n",
      "only showing top 5 rows\n",
      "\n"
     ]
    }
   ],
   "source": [
    "comments_schema = T.StructType([\n",
    "    T.StructField(\"video_id\", T.StringType(), True),\n",
    "    T.StructField(\"comment_text\", T.StringType(), True),\n",
    "    T.StructField(\"likes\", T.IntegerType(), True),\n",
    "    T.StructField(\"replies\", T.IntegerType(), True)\n",
    "])\n",
    "comments = spark.read.option('header', 'true').option(\"mode\", \"DROPMALFORMED\").schema(comments_schema).csv('../datasets/UScomments.csv')\n",
    "comments.show(5)"
   ]
  },
  {
   "cell_type": "code",
   "execution_count": 8,
   "id": "d49d5e3c-f3d4-467a-a5dd-32c8a87f1fd1",
   "metadata": {},
   "outputs": [
    {
     "data": {
      "text/plain": [
       "(691722, 471596)"
      ]
     },
     "execution_count": 8,
     "metadata": {},
     "output_type": "execute_result"
    }
   ],
   "source": [
    "comments.count(), comments.distinct().count()"
   ]
  },
  {
   "cell_type": "markdown",
   "id": "83197e00-81cd-440b-a124-1989423752b9",
   "metadata": {},
   "source": [
    "Предлагаю ранжировать видео через линейную комбинацию признаков. Поскольку нет меток для регрессии, веса для признаков выберу по интуиции. Так мы получим некое значение по степени \"крутости\". Поскольку у одного ролиа может быть несколько комментариев, для простоты можно посчитать агрегацию по лайкам и ответам, например, сумму"
   ]
  },
  {
   "cell_type": "markdown",
   "id": "57f47bb2-c572-48f9-b249-d13398f74bd0",
   "metadata": {},
   "source": [
    "### $$w_1 * views + w_2 * likes + w_3 * dislikes + w_4 * sum(comments\\_likes) + w_5 * sum(comments\\_replies)$$"
   ]
  },
  {
   "cell_type": "code",
   "execution_count": 9,
   "id": "6606f6ca-9dcc-4f38-809f-b10831f972c9",
   "metadata": {},
   "outputs": [],
   "source": [
    "comments_agg = (\n",
    "    comments\n",
    "    .distinct()\n",
    "    .groupBy(F.col('video_id'))\n",
    "    .agg(\n",
    "        F.sum(F.col('likes')).alias('comments_likes'),\n",
    "        F.sum(F.col('replies')).alias('comments_replies'),\n",
    "    )\n",
    ")"
   ]
  },
  {
   "cell_type": "code",
   "execution_count": 10,
   "id": "e6f5523f-020d-4147-833e-94cee17a209c",
   "metadata": {},
   "outputs": [
    {
     "name": "stdout",
     "output_type": "stream",
     "text": [
      "+-----------+--------------+----------------+\n",
      "|   video_id|comments_likes|comments_replies|\n",
      "+-----------+--------------+----------------+\n",
      "|xPS7bqBePSs|           990|              27|\n",
      "|dInwVhRtN4E|            63|              13|\n",
      "|rn5Xgak1zzA|            14|               7|\n",
      "|eHq6ZA6uKOg|           688|             100|\n",
      "|7TN09IP5JuI|            34|               0|\n",
      "+-----------+--------------+----------------+\n",
      "only showing top 5 rows\n",
      "\n"
     ]
    }
   ],
   "source": [
    "comments_agg.show(5)"
   ]
  },
  {
   "cell_type": "code",
   "execution_count": 11,
   "id": "d5f75832-e0e7-4f6f-9a14-12ad71036be5",
   "metadata": {},
   "outputs": [
    {
     "data": {
      "text/plain": [
       "(2266, 2266)"
      ]
     },
     "execution_count": 11,
     "metadata": {},
     "output_type": "execute_result"
    }
   ],
   "source": [
    "comments_agg.count(), comments_agg.distinct().count()"
   ]
  },
  {
   "cell_type": "code",
   "execution_count": 12,
   "id": "cecdf5cc-8509-4aad-ac19-daa0ffe61783",
   "metadata": {},
   "outputs": [
    {
     "name": "stdout",
     "output_type": "stream",
     "text": [
      "+-----------+--------------+\n",
      "|   video_id|partition_size|\n",
      "+-----------+--------------+\n",
      "|LunHybOKIjU|             8|\n",
      "|Hlt3rA-oDao|             8|\n",
      "|Oo0NJsr5m4I|             8|\n",
      "|jUrpOg4fBs0|             7|\n",
      "|j5YSOabmFgw|             7|\n",
      "|CYoRmfI0LUc|             7|\n",
      "|mlxdnyfkWKQ|             7|\n",
      "|udnGW3E1vxY|             7|\n",
      "|3QWQ4gN3j4E|             7|\n",
      "|M16CGK1T9MM|             7|\n",
      "|XpVt6Z1Gjjo|             7|\n",
      "|74zJ4scJzNs|             7|\n",
      "|APHgDFRpCi0|             7|\n",
      "|4X6a3G_0HjY|             7|\n",
      "|SHq2qrFUlGY|             7|\n",
      "|rgbnZG85IRo|             7|\n",
      "|oKzFGhlFqqE|             7|\n",
      "|5ggZ9jIHnr8|             7|\n",
      "|DeTu8xSGpEM|             7|\n",
      "|OlI8r3nNUVw|             7|\n",
      "+-----------+--------------+\n",
      "only showing top 20 rows\n",
      "\n"
     ]
    }
   ],
   "source": [
    "(\n",
    "    videos\n",
    "    .groupBy('video_id')\n",
    "    .agg(\n",
    "        F.count('title').alias('partition_size')\n",
    "    )\n",
    "    .orderBy(F.desc('partition_size'))\n",
    ").show()"
   ]
  },
  {
   "cell_type": "markdown",
   "id": "5c0959ca-7186-4ebd-993d-8026e6f9637b",
   "metadata": {},
   "source": [
    "В датасете videos нет сильной скошенности по ключу, значит от добавления соли выигрыша нет. В датасете comments_agg ключи уже уникальны и их меньше, чем в videos. Можно попробовать партиционирование по ключу video_id, чтобы равномерно распределить записи"
   ]
  },
  {
   "cell_type": "code",
   "execution_count": 13,
   "id": "1c07039f-fdfb-487b-a89e-39d2ea64e2f2",
   "metadata": {},
   "outputs": [],
   "source": [
    "videos = (\n",
    "    videos.repartition(100, 'video_id')\n",
    "    .join(comments_agg, on='video_id', how='left')\n",
    ")"
   ]
  },
  {
   "cell_type": "code",
   "execution_count": 14,
   "id": "845e033d-fc90-4fd5-8892-6a0f17e3d03c",
   "metadata": {},
   "outputs": [
    {
     "name": "stdout",
     "output_type": "stream",
     "text": [
      "+-----------+--------------------+------+-----+--------+--------------+----------------+\n",
      "|   video_id|               title| views|likes|dislikes|comments_likes|comments_replies|\n",
      "+-----------+--------------------+------+-----+--------+--------------+----------------+\n",
      "|xPS7bqBePSs|LÉON - I Believe ...| 14598| 1432|       6|           990|              27|\n",
      "|a7Sf_H2cFdM|Drowning for Powe...|917643|25456|     731|            17|               5|\n",
      "|a7Sf_H2cFdM|Drowning for Powe...|947706|25968|     741|            17|               5|\n",
      "|mGqR9sgMIyA|Orlando braces fo...| 25652|   73|      11|            79|              40|\n",
      "|H8t5M9_Tvzk|Depeche Mode - Co...| 93030| 6162|      81|           186|              25|\n",
      "+-----------+--------------------+------+-----+--------+--------------+----------------+\n",
      "only showing top 5 rows\n",
      "\n"
     ]
    }
   ],
   "source": [
    "videos.select('video_id', 'title', 'views', 'likes', 'dislikes', 'comments_likes', 'comments_replies').show(5)"
   ]
  },
  {
   "cell_type": "code",
   "execution_count": 15,
   "id": "c9a08f79-3939-495d-a6eb-0516fa00089d",
   "metadata": {},
   "outputs": [],
   "source": [
    "@F.udf(returnType=T.FloatType())\n",
    "def model_score(\n",
    "    views,\n",
    "    likes,\n",
    "    dislikes,\n",
    "    comments_likes,\n",
    "    comments_replies,\n",
    "    w_1: float = 0.1, \n",
    "    w_2: float = 10.0,\n",
    "    w_3: float = -100.0,\n",
    "    w_4: float = 2.0,\n",
    "    w_5: float = 1.0,\n",
    "):\n",
    "    score = w_1 * views + w_2 * likes + w_3 * dislikes + w_4 * comments_likes + w_5 * comments_replies\n",
    "    return score"
   ]
  },
  {
   "cell_type": "markdown",
   "id": "aa794438-78cb-40cb-a76d-5daf4978b5ef",
   "metadata": {},
   "source": [
    "подстелим соломку и обработаем пропуски"
   ]
  },
  {
   "cell_type": "code",
   "execution_count": 16,
   "id": "bf9f6525-92af-446b-9b6f-74f98884de4b",
   "metadata": {},
   "outputs": [],
   "source": [
    "scored_videos = (\n",
    "    videos\n",
    "    .na.fill({'views': 0, 'likes': 0, 'dislikes': 0, 'comments_likes': 0, 'comments_replies': 0})\n",
    "    .withColumn('model_score',\n",
    "                model_score(F.col('views'), F.col('likes'), F.col('dislikes'), F.col('comments_likes'), F.col('comments_replies'))\n",
    "               )\n",
    ")"
   ]
  },
  {
   "cell_type": "code",
   "execution_count": 17,
   "id": "2493debc-ec24-4b6d-a23f-85ac6a76eb7c",
   "metadata": {},
   "outputs": [
    {
     "name": "stdout",
     "output_type": "stream",
     "text": [
      "+-----------+--------------------+------+-----+--------+--------------+----------------+-----------+\n",
      "|   video_id|               title| views|likes|dislikes|comments_likes|comments_replies|model_score|\n",
      "+-----------+--------------------+------+-----+--------+--------------+----------------+-----------+\n",
      "|xPS7bqBePSs|LÉON - I Believe ...| 14598| 1432|       6|           990|              27|    17186.8|\n",
      "|xPS7bqBePSs|LÉON - I Believe ...| 26232| 1968|      14|           990|              27|    22910.2|\n",
      "|a7Sf_H2cFdM|Drowning for Powe...|917643|25456|     731|            17|               5|   273263.3|\n",
      "|a7Sf_H2cFdM|Drowning for Powe...|947706|25968|     741|            17|               5|   280389.6|\n",
      "|a7Sf_H2cFdM|Drowning for Powe...|971242|26435|     748|            17|               5|   286713.2|\n",
      "|a7Sf_H2cFdM|Drowning for Powe...|986576|26725|     759|            17|               5|   290046.6|\n",
      "|mGqR9sgMIyA|Orlando braces fo...| 25652|   73|      11|            79|              40|     2393.2|\n",
      "|H8t5M9_Tvzk|Depeche Mode - Co...| 93030| 6162|      81|           186|              25|    63220.0|\n",
      "|H8t5M9_Tvzk|Depeche Mode - Co...|165983| 7999|     124|           186|              25|    84585.3|\n",
      "|9W0WPPpCFaM|You have more tha...|209228| 7829|     237|             9|               1|    75531.8|\n",
      "+-----------+--------------------+------+-----+--------+--------------+----------------+-----------+\n",
      "only showing top 10 rows\n",
      "\n"
     ]
    }
   ],
   "source": [
    "scored_videos.select('video_id', 'title', 'views', 'likes', 'dislikes', 'comments_likes', 'comments_replies', 'model_score').show(10)"
   ]
  },
  {
   "cell_type": "code",
   "execution_count": 18,
   "id": "d2b79822-601b-4245-906d-92708e104c24",
   "metadata": {},
   "outputs": [
    {
     "data": {
      "text/plain": [
       "(7998, 7997)"
      ]
     },
     "execution_count": 18,
     "metadata": {},
     "output_type": "execute_result"
    }
   ],
   "source": [
    "scored_videos.count(), scored_videos.distinct().count()"
   ]
  },
  {
   "cell_type": "markdown",
   "id": "5a59a09f-e1fc-48c2-ba40-014021546982",
   "metadata": {},
   "source": [
    "## Задание 2"
   ]
  },
  {
   "cell_type": "markdown",
   "id": "0fce2e32-12f0-4ddf-a1fd-8170503d55f0",
   "metadata": {},
   "source": [
    "categories_score - датасет по категориям, в котором присутствуют следующие поля: Название категории (не id, он непонятный для аналитиков!). Медиана показателя score из датасета scored_videos по каждой категории."
   ]
  },
  {
   "cell_type": "markdown",
   "id": "86b2d200-2aba-4634-a3dd-ab2733d2f4fe",
   "metadata": {},
   "source": [
    "Для расчета медианы нельзя использовать встроенную Spark-функцию median из пакета pyspark.sql.functions"
   ]
  },
  {
   "cell_type": "markdown",
   "id": "ad87fafa-cc9f-4435-9fe2-4b3978993464",
   "metadata": {},
   "source": [
    "Сначала прочитаем категории, извлечем их названия, а потом подклеим по category_id к видео"
   ]
  },
  {
   "cell_type": "code",
   "execution_count": 19,
   "id": "654f6002-eca9-4d5c-a4c8-ab60e5a066eb",
   "metadata": {},
   "outputs": [],
   "source": [
    "category_schema = T.StructType([\n",
    "    T.StructField(\"etag\", T.StringType(), True),\n",
    "    T.StructField(\"kind\", T.StringType(), True),\n",
    "    T.StructField(\"items\", T.ArrayType(T.MapType(T.StringType(), T.StringType(), True), True)),\n",
    "])"
   ]
  },
  {
   "cell_type": "code",
   "execution_count": 20,
   "id": "42ac09fd-b57a-4c1e-957f-62ce2580c73e",
   "metadata": {},
   "outputs": [
    {
     "name": "stdout",
     "output_type": "stream",
     "text": [
      "+--------------------+--------------------+--------------------+\n",
      "|                etag|                kind|               items|\n",
      "+--------------------+--------------------+--------------------+\n",
      "|\"m2yskBQFythfE4ir...|youtube#videoCate...|{kind -> youtube#...|\n",
      "|\"m2yskBQFythfE4ir...|youtube#videoCate...|{kind -> youtube#...|\n",
      "|\"m2yskBQFythfE4ir...|youtube#videoCate...|{kind -> youtube#...|\n",
      "|\"m2yskBQFythfE4ir...|youtube#videoCate...|{kind -> youtube#...|\n",
      "|\"m2yskBQFythfE4ir...|youtube#videoCate...|{kind -> youtube#...|\n",
      "|\"m2yskBQFythfE4ir...|youtube#videoCate...|{kind -> youtube#...|\n",
      "|\"m2yskBQFythfE4ir...|youtube#videoCate...|{kind -> youtube#...|\n",
      "|\"m2yskBQFythfE4ir...|youtube#videoCate...|{kind -> youtube#...|\n",
      "|\"m2yskBQFythfE4ir...|youtube#videoCate...|{kind -> youtube#...|\n",
      "|\"m2yskBQFythfE4ir...|youtube#videoCate...|{kind -> youtube#...|\n",
      "|\"m2yskBQFythfE4ir...|youtube#videoCate...|{kind -> youtube#...|\n",
      "|\"m2yskBQFythfE4ir...|youtube#videoCate...|{kind -> youtube#...|\n",
      "|\"m2yskBQFythfE4ir...|youtube#videoCate...|{kind -> youtube#...|\n",
      "|\"m2yskBQFythfE4ir...|youtube#videoCate...|{kind -> youtube#...|\n",
      "|\"m2yskBQFythfE4ir...|youtube#videoCate...|{kind -> youtube#...|\n",
      "|\"m2yskBQFythfE4ir...|youtube#videoCate...|{kind -> youtube#...|\n",
      "|\"m2yskBQFythfE4ir...|youtube#videoCate...|{kind -> youtube#...|\n",
      "|\"m2yskBQFythfE4ir...|youtube#videoCate...|{kind -> youtube#...|\n",
      "|\"m2yskBQFythfE4ir...|youtube#videoCate...|{kind -> youtube#...|\n",
      "|\"m2yskBQFythfE4ir...|youtube#videoCate...|{kind -> youtube#...|\n",
      "+--------------------+--------------------+--------------------+\n",
      "only showing top 20 rows\n",
      "\n"
     ]
    }
   ],
   "source": [
    "category = spark.read.option(\"multiline\",\"true\").json('../datasets/US_category_id.json', schema=category_schema)\n",
    "category = category.withColumn('items', F.explode(F.col('items')))\n",
    "category.show()"
   ]
  },
  {
   "cell_type": "markdown",
   "id": "0ab0b5fd-e2b6-48af-8899-198d56a57276",
   "metadata": {},
   "source": [
    "Достанем заголовок из вложения"
   ]
  },
  {
   "cell_type": "code",
   "execution_count": 21,
   "id": "f4a88e1f-a8f2-4528-9238-d023dca2458b",
   "metadata": {},
   "outputs": [],
   "source": [
    "snippet_schema = T.StructType([\n",
    "    T.StructField(\"channelId\", T.StringType(), True),\n",
    "    T.StructField(\"title\", T.StringType(), True),\n",
    "    T.StructField(\"assignable\", T.BooleanType(), True),\n",
    "])"
   ]
  },
  {
   "cell_type": "code",
   "execution_count": 22,
   "id": "6c7779d1-91b4-4433-8b7b-2d5330c2f83c",
   "metadata": {},
   "outputs": [],
   "source": [
    "category = (\n",
    "    category\n",
    "    .withColumn('snippet_json',\n",
    "                F.from_json(F.col('items.snippet'), schema=snippet_schema)\n",
    "               )\n",
    "    .select(\n",
    "        F.col('items.id').alias('category_id'),\n",
    "        F.col('snippet_json.title').alias('category_title')\n",
    "    )\n",
    ")"
   ]
  },
  {
   "cell_type": "code",
   "execution_count": 23,
   "id": "6ff37141-43e4-4953-a58e-638322fa3022",
   "metadata": {},
   "outputs": [
    {
     "name": "stdout",
     "output_type": "stream",
     "text": [
      "+-----------+--------------------+\n",
      "|category_id|      category_title|\n",
      "+-----------+--------------------+\n",
      "|          1|    Film & Animation|\n",
      "|          2|    Autos & Vehicles|\n",
      "|         10|               Music|\n",
      "|         15|      Pets & Animals|\n",
      "|         17|              Sports|\n",
      "|         18|        Short Movies|\n",
      "|         19|     Travel & Events|\n",
      "|         20|              Gaming|\n",
      "|         21|       Videoblogging|\n",
      "|         22|      People & Blogs|\n",
      "|         23|              Comedy|\n",
      "|         24|       Entertainment|\n",
      "|         25|     News & Politics|\n",
      "|         26|       Howto & Style|\n",
      "|         27|           Education|\n",
      "|         28|Science & Technology|\n",
      "|         29|Nonprofits & Acti...|\n",
      "|         30|              Movies|\n",
      "|         31|     Anime/Animation|\n",
      "|         32|    Action/Adventure|\n",
      "+-----------+--------------------+\n",
      "only showing top 20 rows\n",
      "\n"
     ]
    }
   ],
   "source": [
    "category.show()"
   ]
  },
  {
   "cell_type": "code",
   "execution_count": 24,
   "id": "322a80e2-fdc7-41d4-ac78-cdfba06a1536",
   "metadata": {},
   "outputs": [
    {
     "data": {
      "text/plain": [
       "(32, 32)"
      ]
     },
     "execution_count": 24,
     "metadata": {},
     "output_type": "execute_result"
    }
   ],
   "source": [
    "category.count(), category.distinct().count()"
   ]
  },
  {
   "cell_type": "markdown",
   "id": "910a200c-cf2d-4c52-8bb0-d1ecd0605498",
   "metadata": {},
   "source": [
    "Возможно, тут лучше broadcast сделать, так как категорий мало"
   ]
  },
  {
   "cell_type": "code",
   "execution_count": 25,
   "id": "cfecd6b9-dae2-4e60-b8d0-a50c0c0e61d9",
   "metadata": {},
   "outputs": [],
   "source": [
    "categories_score = (\n",
    "    scored_videos\n",
    "    .join(F.broadcast(category), on='category_id', how='left')\n",
    ")"
   ]
  },
  {
   "cell_type": "code",
   "execution_count": 26,
   "id": "dc71220a-1d73-4407-9321-32f5c4c03f3c",
   "metadata": {},
   "outputs": [
    {
     "name": "stdout",
     "output_type": "stream",
     "text": [
      "== Physical Plan ==\n",
      "*(7) Project [category_id#20, video_id#17, title#18, channel_title#19, tags#21, views#345, likes#346, dislikes#347, comment_total#25, thumbnail_link#26, date#27, comments_likes#348L, comments_replies#349L, model_score#364, category_title#528]\n",
      "+- *(7) BroadcastHashJoin [category_id#20], [cast(category_id#527 as int)], LeftOuter, BuildRight, false\n",
      "   :- *(7) Project [video_id#17, title#18, channel_title#19, category_id#20, tags#21, views#345, likes#346, dislikes#347, comment_total#25, thumbnail_link#26, date#27, comments_likes#348L, comments_replies#349L, pythonUDF0#574 AS model_score#364]\n",
      "   :  +- BatchEvalPython [model_score(views#345, likes#346, dislikes#347, comments_likes#348L, comments_replies#349L)#363], [pythonUDF0#574]\n",
      "   :     +- *(5) Project [video_id#17, title#18, channel_title#19, category_id#20, tags#21, coalesce(views#22, 0) AS views#345, coalesce(likes#23, 0) AS likes#346, coalesce(dislikes#24, 0) AS dislikes#347, comment_total#25, thumbnail_link#26, date#27, coalesce(comments_likes#196L, 0) AS comments_likes#348L, coalesce(comments_replies#198L, 0) AS comments_replies#349L]\n",
      "   :        +- *(5) SortMergeJoin [video_id#17], [video_id#139], LeftOuter\n",
      "   :           :- *(1) Sort [video_id#17 ASC NULLS FIRST], false, 0\n",
      "   :           :  +- Exchange hashpartitioning(video_id#17, 200), REPARTITION_BY_NUM, [plan_id=1128]\n",
      "   :           :     +- FileScan csv [video_id#17,title#18,channel_title#19,category_id#20,tags#21,views#22,likes#23,dislikes#24,comment_total#25,thumbnail_link#26,date#27] Batched: false, DataFilters: [], Format: CSV, Location: InMemoryFileIndex(1 paths)[file:/home/jovyan/datasets/USvideos.csv], PartitionFilters: [], PushedFilters: [], ReadSchema: struct<video_id:string,title:string,channel_title:string,category_id:int,tags:string,views:int,li...\n",
      "   :           +- *(4) Sort [video_id#139 ASC NULLS FIRST], false, 0\n",
      "   :              +- *(4) HashAggregate(keys=[video_id#139], functions=[sum(likes#141), sum(replies#142)])\n",
      "   :                 +- Exchange hashpartitioning(video_id#139, 200), ENSURE_REQUIREMENTS, [plan_id=1152]\n",
      "   :                    +- *(3) HashAggregate(keys=[video_id#139], functions=[partial_sum(likes#141), partial_sum(replies#142)])\n",
      "   :                       +- *(3) HashAggregate(keys=[video_id#139, comment_text#140, likes#141, replies#142], functions=[])\n",
      "   :                          +- Exchange hashpartitioning(video_id#139, comment_text#140, likes#141, replies#142, 200), ENSURE_REQUIREMENTS, [plan_id=1147]\n",
      "   :                             +- *(2) HashAggregate(keys=[video_id#139, comment_text#140, likes#141, replies#142], functions=[])\n",
      "   :                                +- *(2) Filter isnotnull(video_id#139)\n",
      "   :                                   +- FileScan csv [video_id#139,comment_text#140,likes#141,replies#142] Batched: false, DataFilters: [isnotnull(video_id#139)], Format: CSV, Location: InMemoryFileIndex(1 paths)[file:/home/jovyan/datasets/UScomments.csv], PartitionFilters: [], PushedFilters: [IsNotNull(video_id)], ReadSchema: struct<video_id:string,comment_text:string,likes:int,replies:int>\n",
      "   +- BroadcastExchange HashedRelationBroadcastMode(List(cast(cast(input[0, string, true] as int) as bigint)),false), [plan_id=1170]\n",
      "      +- Project [items#500[id] AS category_id#527, from_json(StructField(title,StringType,true), items#500[snippet], Some(Etc/UTC)).title AS category_title#528]\n",
      "         +- *(6) Filter isnotnull(items#500[id])\n",
      "            +- *(6) Generate explode(items#495), false, [items#500]\n",
      "               +- *(6) Filter ((size(items#495, true) > 0) AND isnotnull(items#495))\n",
      "                  +- FileScan json [items#495] Batched: false, DataFilters: [(size(items#495, true) > 0), isnotnull(items#495)], Format: JSON, Location: InMemoryFileIndex(1 paths)[file:/home/jovyan/datasets/US_category_id.json], PartitionFilters: [], PushedFilters: [IsNotNull(items)], ReadSchema: struct<items:array<map<string,string>>>\n",
      "\n",
      "\n"
     ]
    }
   ],
   "source": [
    "categories_score.explain()"
   ]
  },
  {
   "cell_type": "code",
   "execution_count": 27,
   "id": "2ab3bd0a-d66f-4151-af2f-f5e64a3d0918",
   "metadata": {},
   "outputs": [
    {
     "name": "stdout",
     "output_type": "stream",
     "text": [
      "+-----------+-----------+--------------------+-----------+\n",
      "|   video_id|category_id|      category_title|model_score|\n",
      "+-----------+-----------+--------------------+-----------+\n",
      "|xPS7bqBePSs|         10|               Music|    17186.8|\n",
      "|xPS7bqBePSs|         10|               Music|    22910.2|\n",
      "|a7Sf_H2cFdM|          1|    Film & Animation|   273263.3|\n",
      "|a7Sf_H2cFdM|          1|    Film & Animation|   280389.6|\n",
      "|a7Sf_H2cFdM|          1|    Film & Animation|   286713.2|\n",
      "|a7Sf_H2cFdM|          1|    Film & Animation|   290046.6|\n",
      "|mGqR9sgMIyA|         25|     News & Politics|     2393.2|\n",
      "|H8t5M9_Tvzk|         10|               Music|    63220.0|\n",
      "|H8t5M9_Tvzk|         10|               Music|    84585.3|\n",
      "|9W0WPPpCFaM|         28|Science & Technology|    75531.8|\n",
      "+-----------+-----------+--------------------+-----------+\n",
      "only showing top 10 rows\n",
      "\n"
     ]
    }
   ],
   "source": [
    "categories_score.select('video_id', 'category_id', 'category_title', 'model_score').show(10)"
   ]
  },
  {
   "cell_type": "code",
   "execution_count": 28,
   "id": "7b0d9ec5-7654-4d33-914e-be3bda6c47ac",
   "metadata": {},
   "outputs": [
    {
     "data": {
      "text/plain": [
       "7998"
      ]
     },
     "execution_count": 28,
     "metadata": {},
     "output_type": "execute_result"
    }
   ],
   "source": [
    "categories_score.count()"
   ]
  },
  {
   "cell_type": "markdown",
   "id": "f04ca112-713e-45da-99b9-f66cec0b4582",
   "metadata": {},
   "source": [
    "Теперь сгруппируем и посчитаем медиану по скорингу"
   ]
  },
  {
   "cell_type": "code",
   "execution_count": 29,
   "id": "9097cc79-ba30-43f4-a613-a38e05038f84",
   "metadata": {},
   "outputs": [],
   "source": [
    "import numpy as np\n",
    "import pandas as pd"
   ]
  },
  {
   "cell_type": "code",
   "execution_count": 30,
   "id": "96780d10-486a-4200-a1ba-6aeac4982742",
   "metadata": {},
   "outputs": [
    {
     "name": "stderr",
     "output_type": "stream",
     "text": [
      "/usr/local/spark/python/pyspark/sql/pandas/functions.py:399: UserWarning: In Python 3.6+ and Spark 3.0+, it is preferred to specify type hints for pandas UDF instead of specifying pandas UDF type which will be deprecated in the future releases. See SPARK-28264 for more details.\n",
      "  warnings.warn(\n"
     ]
    }
   ],
   "source": [
    "@F.pandas_udf(T.FloatType(), F.PandasUDFType.GROUPED_AGG)\n",
    "def median(scores) -> float:\n",
    "    return np.median(scores)"
   ]
  },
  {
   "cell_type": "code",
   "execution_count": 31,
   "id": "db84c578-240c-42d3-8b69-5880a8ea2ad2",
   "metadata": {},
   "outputs": [],
   "source": [
    "categories_score = (\n",
    "    categories_score\n",
    "    .groupBy('category_title')\n",
    "    .agg(\n",
    "        median(F.col('model_score')).alias('median_model_score')\n",
    "    )\n",
    ")"
   ]
  },
  {
   "cell_type": "code",
   "execution_count": 32,
   "id": "0f2ce68c-94ca-4d37-97ec-7ae08b1fc021",
   "metadata": {},
   "outputs": [
    {
     "name": "stdout",
     "output_type": "stream",
     "text": [
      "+--------------------+------------------+\n",
      "|      category_title|median_model_score|\n",
      "+--------------------+------------------+\n",
      "|               Shows|           1252.25|\n",
      "|     News & Politics|            4357.2|\n",
      "|Nonprofits & Acti...|         4697.8496|\n",
      "|              Sports|           20062.2|\n",
      "|    Autos & Vehicles|          21725.05|\n",
      "|              Gaming|           43896.5|\n",
      "|    Film & Animation|           73514.5|\n",
      "|       Entertainment|           81638.0|\n",
      "|           Education|           81849.4|\n",
      "|      Pets & Animals|           85859.1|\n",
      "|Science & Technology|          89013.55|\n",
      "|     Travel & Events|          95189.91|\n",
      "|      People & Blogs|           95631.2|\n",
      "|               Music|         107169.35|\n",
      "|       Howto & Style|         125801.91|\n",
      "|              Comedy|          215351.9|\n",
      "+--------------------+------------------+\n",
      "\n"
     ]
    }
   ],
   "source": [
    "categories_score.orderBy('median_model_score').show()"
   ]
  },
  {
   "cell_type": "markdown",
   "id": "6d7df39f-0dbe-4d0e-87e3-c3c3bb08ef50",
   "metadata": {},
   "source": [
    "# Задание 3"
   ]
  },
  {
   "cell_type": "code",
   "execution_count": 33,
   "id": "9ed8eb64-0ddd-4790-bcd5-a158158ab553",
   "metadata": {},
   "outputs": [],
   "source": [
    "import time\n",
    "from tqdm import tqdm"
   ]
  },
  {
   "cell_type": "markdown",
   "id": "f78fdbdb-ab48-461f-b487-46d9c659bb22",
   "metadata": {},
   "source": [
    "popular_tags - датасет по самым популярным тэгам (название тэга + количество видео с этим тэгом). В исходном датасете тэги лежат строкой в поле tags. Другие разработчики уже сталкивались с подобной задачей, поэтому написали Scala-функцию для разбиения тегов. Но не доверяйте им вслепую! Обязательно напишите свою функцию разбиения строки на тэги и сравните время работы с её Scala-версией. Можно замерять своими силами, а можно воспользоваться библиотекой timeit."
   ]
  },
  {
   "cell_type": "code",
   "execution_count": 34,
   "id": "13e8b81e-2a06-431c-abbe-288171164264",
   "metadata": {},
   "outputs": [],
   "source": [
    "from pyspark.sql.column import Column\n",
    "from pyspark.sql.column import _to_java_column\n",
    "from pyspark.sql.column import _to_seq"
   ]
  },
  {
   "cell_type": "code",
   "execution_count": 35,
   "id": "78134a48-b4cb-46f7-8d35-2310750476a9",
   "metadata": {},
   "outputs": [],
   "source": [
    "sc = spark.sparkContext"
   ]
  },
  {
   "cell_type": "markdown",
   "id": "45aa2b5b-9d30-4c39-b593-6f082075238c",
   "metadata": {},
   "source": [
    "Посмотрим на Scala UDF"
   ]
  },
  {
   "cell_type": "code",
   "execution_count": 36,
   "id": "79b33d4c-0f4c-40be-9baf-76757340a813",
   "metadata": {},
   "outputs": [],
   "source": [
    "def scala_splitTags_udf_wrapper(tags):\n",
    "    splitTags_idf = sc._jvm.CustomUDFs.splitTagsUDF()\n",
    "    return Column(splitTags_idf.apply(_to_seq(sc, [tags], _to_java_column)))"
   ]
  },
  {
   "cell_type": "code",
   "execution_count": 37,
   "id": "9e771535-d878-4448-9a18-7ef6a8709d13",
   "metadata": {},
   "outputs": [
    {
     "name": "stderr",
     "output_type": "stream",
     "text": [
      "100%|██████████| 1000/1000 [06:28<00:00,  2.57it/s]\n"
     ]
    }
   ],
   "source": [
    "scala_times = []\n",
    "for _ in tqdm(range(1_000)):\n",
    "    start_time = time.time()\n",
    "    videos.withColumn('splitted_tags', scala_splitTags_udf_wrapper(F.col('tags'))).select('video_id', 'tags', 'splitted_tags').count()\n",
    "    work_time = time.time() - start_time\n",
    "    scala_times.append(work_time)"
   ]
  },
  {
   "cell_type": "code",
   "execution_count": 38,
   "id": "349ac69d-8e17-4caa-8b20-1063e7514d37",
   "metadata": {},
   "outputs": [
    {
     "data": {
      "text/plain": [
       "(0.38743825316429137, 0.0319139355599288)"
      ]
     },
     "execution_count": 38,
     "metadata": {},
     "output_type": "execute_result"
    }
   ],
   "source": [
    "np.mean(scala_times), np.std(scala_times)"
   ]
  },
  {
   "cell_type": "markdown",
   "id": "23311c5c-8993-499d-b5f0-b65675082414",
   "metadata": {},
   "source": [
    "Это было быстро..."
   ]
  },
  {
   "cell_type": "markdown",
   "id": "f2f3f7fb-d253-4b73-8314-4cdad2a82770",
   "metadata": {},
   "source": [
    "Теперь напишем свою UDF"
   ]
  },
  {
   "cell_type": "code",
   "execution_count": 39,
   "id": "7739e56c-3041-482e-a960-c5a88a91d5c1",
   "metadata": {},
   "outputs": [],
   "source": [
    "@F.pandas_udf(T.ArrayType(T.StringType(), True), F.PandasUDFType.SCALAR)\n",
    "def split_tags_custom_udf(tags):\n",
    "    return tags.split('|')"
   ]
  },
  {
   "cell_type": "code",
   "execution_count": 40,
   "id": "933ce80d-c401-45ff-bf85-fffb09141ec0",
   "metadata": {},
   "outputs": [
    {
     "name": "stderr",
     "output_type": "stream",
     "text": [
      "100%|██████████| 1000/1000 [06:14<00:00,  2.67it/s]\n"
     ]
    }
   ],
   "source": [
    "python_times = []\n",
    "for _ in tqdm(range(1_000)):\n",
    "    start_time = time.time()\n",
    "    videos.withColumn('splitted_tags', split_tags_custom_udf(F.col('tags'))).select('video_id', 'tags', 'splitted_tags').count()\n",
    "    work_time = time.time() - start_time\n",
    "    python_times.append(work_time)"
   ]
  },
  {
   "cell_type": "code",
   "execution_count": 41,
   "id": "5c8ca1f4-45fe-48e5-9326-744d9c55b567",
   "metadata": {},
   "outputs": [
    {
     "data": {
      "text/plain": [
       "(0.3732949829101562, 0.03392586365832979)"
      ]
     },
     "execution_count": 41,
     "metadata": {},
     "output_type": "execute_result"
    }
   ],
   "source": [
    "np.mean(python_times), np.std(python_times)"
   ]
  },
  {
   "cell_type": "markdown",
   "id": "efaa4378-a879-4e2b-8440-6febb76d3cab",
   "metadata": {},
   "source": [
    "По наблюдениям сложно сказать, какой вариант здесь значительно лучше, поскольку и тот и другой от итерации к итерации были быстрее. Возможно, при значительном объеме данных разница будет заметнее, но сейчас она мало на что влияет. Обычно, стандартное отклонение у pandas_udf повыше, нет уверенности, что данная реализация будет стабильна"
   ]
  },
  {
   "cell_type": "markdown",
   "id": "5cbd06ba-fc4d-4be1-a94c-563c235006d3",
   "metadata": {},
   "source": [
    "Выберем вариант со Scala UDF, потому что так интереснее"
   ]
  },
  {
   "cell_type": "code",
   "execution_count": 42,
   "id": "40245d10-7fa5-4686-90e0-000ad9c4977e",
   "metadata": {},
   "outputs": [],
   "source": [
    "tags = videos.withColumn('splitted_tags', scala_splitTags_udf_wrapper(F.col('tags')))"
   ]
  },
  {
   "cell_type": "code",
   "execution_count": 43,
   "id": "387a2aa2-2b0c-40f8-ad9f-9d99419949b8",
   "metadata": {},
   "outputs": [
    {
     "name": "stdout",
     "output_type": "stream",
     "text": [
      "+-----------+--------------------+-----+--------------------+\n",
      "|   video_id|                tags|likes|       splitted_tags|\n",
      "+-----------+--------------------+-----+--------------------+\n",
      "|1u5jO57eD-U|James Corden|The ...|34089|[James Corden, Th...|\n",
      "|1u5jO57eD-U|James Corden|The ...|50615|[James Corden, Th...|\n",
      "|fcubmjoGH7I|online fashion|be...|23238|[online fashion, ...|\n",
      "|1u5jO57eD-U|James Corden|The ...|62776|[James Corden, Th...|\n",
      "|fcubmjoGH7I|online fashion|be...|26026|[online fashion, ...|\n",
      "|xPS7bqBePSs|Columbia|I Believ...| 1432|[Columbia, I Beli...|\n",
      "|1u5jO57eD-U|James Corden|The ...|71169|[James Corden, Th...|\n",
      "|fcubmjoGH7I|online fashion|be...|27889|[online fashion, ...|\n",
      "|xPS7bqBePSs|Columbia|I Believ...| 1968|[Columbia, I Beli...|\n",
      "|1u5jO57eD-U|James Corden|The ...|74470|[James Corden, Th...|\n",
      "|fcubmjoGH7I|online fashion|be...|28630|[online fashion, ...|\n",
      "|xPS7bqBePSs|Columbia|I Believ...| 2282|[Columbia, I Beli...|\n",
      "|dInwVhRtN4E|LEGO|LEGO Batman|...|43066|[LEGO, LEGO Batma...|\n",
      "|fcubmjoGH7I|online fashion|be...|29247|[online fashion, ...|\n",
      "|dInwVhRtN4E|LEGO|LEGO Batman|...|53758|[LEGO, LEGO Batma...|\n",
      "|rn5Xgak1zzA|milo|yiannopoulos...|19660|[milo, yiannopoul...|\n",
      "|dInwVhRtN4E|LEGO|LEGO Batman|...|56123|[LEGO, LEGO Batma...|\n",
      "|rn5Xgak1zzA|milo|yiannopoulos...|20888|[milo, yiannopoul...|\n",
      "|TzyraAp3jaY|Martin Scorsese|f...|  461|[Martin Scorsese,...|\n",
      "|dInwVhRtN4E|LEGO|LEGO Batman|...|58423|[LEGO, LEGO Batma...|\n",
      "+-----------+--------------------+-----+--------------------+\n",
      "only showing top 20 rows\n",
      "\n"
     ]
    }
   ],
   "source": [
    "tags.select('video_id', 'tags', 'likes', 'splitted_tags').show()"
   ]
  },
  {
   "cell_type": "code",
   "execution_count": 44,
   "id": "73220727-e2d4-4d79-b8ac-df1dd7ab1f9b",
   "metadata": {},
   "outputs": [
    {
     "name": "stdout",
     "output_type": "stream",
     "text": [
      "root\n",
      " |-- video_id: string (nullable = true)\n",
      " |-- title: string (nullable = true)\n",
      " |-- channel_title: string (nullable = true)\n",
      " |-- category_id: integer (nullable = true)\n",
      " |-- tags: string (nullable = true)\n",
      " |-- views: integer (nullable = true)\n",
      " |-- likes: integer (nullable = true)\n",
      " |-- dislikes: integer (nullable = true)\n",
      " |-- comment_total: integer (nullable = true)\n",
      " |-- thumbnail_link: string (nullable = true)\n",
      " |-- date: string (nullable = true)\n",
      " |-- comments_likes: long (nullable = true)\n",
      " |-- comments_replies: long (nullable = true)\n",
      " |-- splitted_tags: array (nullable = true)\n",
      " |    |-- element: string (containsNull = true)\n",
      "\n"
     ]
    }
   ],
   "source": [
    "tags.printSchema()"
   ]
  },
  {
   "cell_type": "code",
   "execution_count": 45,
   "id": "b02dd74e-4796-4c72-9df6-0ecebc9a0c5a",
   "metadata": {},
   "outputs": [],
   "source": [
    "popular_tags = (\n",
    "    tags\n",
    "    .withColumn('tag', \n",
    "                F.explode(F.col('splitted_tags'))\n",
    "               )\n",
    "    .groupBy('tag')\n",
    "    .agg(\n",
    "        F.count(F.col('video_id')).alias('count_video_id')\n",
    "    )\n",
    "    .orderBy(F.desc('count_video_id'))\n",
    ")"
   ]
  },
  {
   "cell_type": "code",
   "execution_count": 46,
   "id": "2d102ad5-3fde-4130-9c05-79218b4d7b2f",
   "metadata": {},
   "outputs": [
    {
     "name": "stdout",
     "output_type": "stream",
     "text": [
      "+---------+--------------+\n",
      "|      tag|count_video_id|\n",
      "+---------+--------------+\n",
      "|    funny|           722|\n",
      "|   comedy|           572|\n",
      "|   [none]|           491|\n",
      "|     2017|           309|\n",
      "|   how to|           284|\n",
      "|     vlog|           273|\n",
      "|    humor|           258|\n",
      "|   makeup|           254|\n",
      "|    music|           250|\n",
      "| tutorial|           235|\n",
      "|     food|           224|\n",
      "|    video|           219|\n",
      "|   review|           218|\n",
      "|celebrity|           211|\n",
      "|     news|           211|\n",
      "|   beauty|           210|\n",
      "|interview|           209|\n",
      "|  science|           197|\n",
      "|      Pop|           190|\n",
      "|  trailer|           180|\n",
      "+---------+--------------+\n",
      "only showing top 20 rows\n",
      "\n"
     ]
    }
   ],
   "source": [
    "popular_tags.show()"
   ]
  },
  {
   "cell_type": "markdown",
   "id": "85fd28f5-2a92-45ab-841d-3002a2a9a316",
   "metadata": {},
   "source": [
    "# Задание 4"
   ]
  },
  {
   "cell_type": "markdown",
   "id": "6d4e7002-5c7d-487d-80d9-caf15f13733a",
   "metadata": {},
   "source": [
    "И личная просьба от Марка: он любит котов (а кто не их не любит!) и хочет найти самые интересные комментарии (топ-5) к видео про котов. “Видео про котов” - видео, у которого есть тэг “cat”."
   ]
  },
  {
   "cell_type": "code",
   "execution_count": 47,
   "id": "72281f8c-999a-49e1-ab3d-bd7186dbfbd7",
   "metadata": {},
   "outputs": [],
   "source": [
    "cat_videos = tags.filter(\n",
    "    F.array_contains(F.col('splitted_tags'), 'cat')\n",
    ")"
   ]
  },
  {
   "cell_type": "code",
   "execution_count": 48,
   "id": "c25a99b0-d81a-491a-84c8-5f0b3df69141",
   "metadata": {},
   "outputs": [
    {
     "data": {
      "text/plain": [
       "48"
      ]
     },
     "execution_count": 48,
     "metadata": {},
     "output_type": "execute_result"
    }
   ],
   "source": [
    "cat_videos.count()"
   ]
  },
  {
   "cell_type": "markdown",
   "id": "dee52493-05e3-4ed9-ab2b-565e6fbcabd0",
   "metadata": {},
   "source": [
    "Видно, что достаточно немного видео имеют тег cat. Поскольку мы предполагаем, что датасеты огромные, то попробуем применить бакетирование по video_id"
   ]
  },
  {
   "cell_type": "code",
   "execution_count": 50,
   "id": "7e019a29-f80f-41c0-a527-96cef2e9ab8c",
   "metadata": {},
   "outputs": [],
   "source": [
    "cat_videos.write \\\n",
    "    .bucketBy(16, 'video_id') \\\n",
    "    .saveAsTable('cat_videos_bucketed', format='parquet', mode='overwrite')\n",
    "    \n",
    "comments.distinct().write \\\n",
    "    .bucketBy(16, 'video_id') \\\n",
    "    .saveAsTable('comments_bucketed', format='parquet', mode='overwrite')"
   ]
  },
  {
   "cell_type": "code",
   "execution_count": 51,
   "id": "b7dffa30-6e5d-481f-9cc1-07ca5d94e399",
   "metadata": {},
   "outputs": [],
   "source": [
    "cat_videos_bucketed = spark.table('cat_videos_bucketed')\n",
    "comments_bucketed = spark.table('comments_bucketed')"
   ]
  },
  {
   "cell_type": "code",
   "execution_count": 52,
   "id": "a3ff2569-81cf-4a80-9339-c2c5ca893d33",
   "metadata": {},
   "outputs": [],
   "source": [
    "cat_comments = (\n",
    "    cat_videos_bucketed\n",
    "    .join(comments_bucketed, on='video_id', how='inner')\n",
    "    .select('video_id', 'tags', 'comment_text', 'comments_bucketed.likes')\n",
    "    .distinct()\n",
    "    .orderBy(F.desc('comments_bucketed.likes'))\n",
    ")"
   ]
  },
  {
   "cell_type": "code",
   "execution_count": 53,
   "id": "eb26ec47-67f5-4c5c-8a08-7505067db94e",
   "metadata": {},
   "outputs": [
    {
     "name": "stdout",
     "output_type": "stream",
     "text": [
      "-RECORD 0---------------------------------------------------------------------------------------------------------------------------------------------------------------------------------------------------------------------------------------------------------------------------------------------------------------------------------------------------------------------------------------------------------------------------------------------------------------------\n",
      " video_id     | xbBMVa2A68s                                                                                                                                                                                                                                                                                                                                                                                                                                                   \n",
      " tags         | cat|dog|cute|gaming|overwatch|runescape|osrs                                                                                                                                                                                                                                                                                                                                                                                                                  \n",
      " comment_text | The second I read this title in my notification, I started to giggle.                                                                                                                                                                                                                                                                                                                                                                                         \n",
      " likes        | 2355                                                                                                                                                                                                                                                                                                                                                                                                                                                          \n",
      "-RECORD 1---------------------------------------------------------------------------------------------------------------------------------------------------------------------------------------------------------------------------------------------------------------------------------------------------------------------------------------------------------------------------------------------------------------------------------------------------------------------\n",
      " video_id     | xbBMVa2A68s                                                                                                                                                                                                                                                                                                                                                                                                                                                   \n",
      " tags         | cat|dog|cute|gaming|overwatch|runescape|osrs                                                                                                                                                                                                                                                                                                                                                                                                                  \n",
      " comment_text | talk about the ocean sunfish build                                                                                                                                                                                                                                                                                                                                                                                                                            \n",
      " likes        | 1070                                                                                                                                                                                                                                                                                                                                                                                                                                                          \n",
      "-RECORD 2---------------------------------------------------------------------------------------------------------------------------------------------------------------------------------------------------------------------------------------------------------------------------------------------------------------------------------------------------------------------------------------------------------------------------------------------------------------------\n",
      " video_id     | xbBMVa2A68s                                                                                                                                                                                                                                                                                                                                                                                                                                                   \n",
      " tags         | cat|dog|cute|gaming|overwatch|runescape|osrs                                                                                                                                                                                                                                                                                                                                                                                                                  \n",
      " comment_text | talk about the ocean sunfish build                                                                                                                                                                                                                                                                                                                                                                                                                            \n",
      " likes        | 1021                                                                                                                                                                                                                                                                                                                                                                                                                                                          \n",
      "-RECORD 3---------------------------------------------------------------------------------------------------------------------------------------------------------------------------------------------------------------------------------------------------------------------------------------------------------------------------------------------------------------------------------------------------------------------------------------------------------------------\n",
      " video_id     | xbBMVa2A68s                                                                                                                                                                                                                                                                                                                                                                                                                                                   \n",
      " tags         | cat|dog|cute|gaming|overwatch|runescape|osrs                                                                                                                                                                                                                                                                                                                                                                                                                  \n",
      " comment_text | talk about the ocean sunfish build                                                                                                                                                                                                                                                                                                                                                                                                                            \n",
      " likes        | 957                                                                                                                                                                                                                                                                                                                                                                                                                                                           \n",
      "-RECORD 4---------------------------------------------------------------------------------------------------------------------------------------------------------------------------------------------------------------------------------------------------------------------------------------------------------------------------------------------------------------------------------------------------------------------------------------------------------------------\n",
      " video_id     | -1fzGnFwz9M                                                                                                                                                                                                                                                                                                                                                                                                                                                   \n",
      " tags         | cartoon|simons cat|simon's cat|simonscat|simon tofield|simon the cat|funny cats|cute cats|cat fails|family friendly|animated animals|short animation|animated cats|tofield|simon's katze|simon|cat|black and white|kitty|traditional animation|black and white cat|Кот Саймона|cat lovers|animal (film character)|fail|funny cat|cats|cute|kitten|kittens|pets|simons cats|Cat|Simon|Tofield|cartoons|Toons|Animated|Animation|Kitten|Funny|Humour|fun|videos \n",
      " comment_text | I make interesting cartoons and I need your help! Go to the channel, rate my work!                                                                                                                                                                                                                                                                                                                                                                            \n",
      " likes        | 839                                                                                                                                                                                                                                                                                                                                                                                                                                                           \n",
      "only showing top 5 rows\n",
      "\n"
     ]
    }
   ],
   "source": [
    "cat_comments.show(5, truncate=False, vertical=True)"
   ]
  },
  {
   "cell_type": "markdown",
   "id": "56195a21-eeda-412b-a614-019c950358af",
   "metadata": {},
   "source": [
    "Код без оптимизаций"
   ]
  },
  {
   "cell_type": "code",
   "execution_count": 55,
   "id": "7c742bd6-7fc1-4f39-ba78-7244b23e1c82",
   "metadata": {},
   "outputs": [
    {
     "name": "stdout",
     "output_type": "stream",
     "text": [
      "-RECORD 0----------------------------------------------------------------------------------------------------------------------------------------------------------------------------------------------------------------------------------------------------------------------------------------------------------------------------------------------------------------------------------------------------------------------------------------------------------------------\n",
      " video_id      | xbBMVa2A68s                                                                                                                                                                                                                                                                                                                                                                                                                                                   \n",
      " tags          | cat|dog|cute|gaming|overwatch|runescape|osrs                                                                                                                                                                                                                                                                                                                                                                                                                  \n",
      " comment_text  | The second I read this title in my notification, I started to giggle.                                                                                                                                                                                                                                                                                                                                                                                         \n",
      " comment_likes | 2355                                                                                                                                                                                                                                                                                                                                                                                                                                                          \n",
      "-RECORD 1----------------------------------------------------------------------------------------------------------------------------------------------------------------------------------------------------------------------------------------------------------------------------------------------------------------------------------------------------------------------------------------------------------------------------------------------------------------------\n",
      " video_id      | xbBMVa2A68s                                                                                                                                                                                                                                                                                                                                                                                                                                                   \n",
      " tags          | cat|dog|cute|gaming|overwatch|runescape|osrs                                                                                                                                                                                                                                                                                                                                                                                                                  \n",
      " comment_text  | talk about the ocean sunfish build                                                                                                                                                                                                                                                                                                                                                                                                                            \n",
      " comment_likes | 1070                                                                                                                                                                                                                                                                                                                                                                                                                                                          \n",
      "-RECORD 2----------------------------------------------------------------------------------------------------------------------------------------------------------------------------------------------------------------------------------------------------------------------------------------------------------------------------------------------------------------------------------------------------------------------------------------------------------------------\n",
      " video_id      | xbBMVa2A68s                                                                                                                                                                                                                                                                                                                                                                                                                                                   \n",
      " tags          | cat|dog|cute|gaming|overwatch|runescape|osrs                                                                                                                                                                                                                                                                                                                                                                                                                  \n",
      " comment_text  | talk about the ocean sunfish build                                                                                                                                                                                                                                                                                                                                                                                                                            \n",
      " comment_likes | 1021                                                                                                                                                                                                                                                                                                                                                                                                                                                          \n",
      "-RECORD 3----------------------------------------------------------------------------------------------------------------------------------------------------------------------------------------------------------------------------------------------------------------------------------------------------------------------------------------------------------------------------------------------------------------------------------------------------------------------\n",
      " video_id      | xbBMVa2A68s                                                                                                                                                                                                                                                                                                                                                                                                                                                   \n",
      " tags          | cat|dog|cute|gaming|overwatch|runescape|osrs                                                                                                                                                                                                                                                                                                                                                                                                                  \n",
      " comment_text  | talk about the ocean sunfish build                                                                                                                                                                                                                                                                                                                                                                                                                            \n",
      " comment_likes | 957                                                                                                                                                                                                                                                                                                                                                                                                                                                           \n",
      "-RECORD 4----------------------------------------------------------------------------------------------------------------------------------------------------------------------------------------------------------------------------------------------------------------------------------------------------------------------------------------------------------------------------------------------------------------------------------------------------------------------\n",
      " video_id      | -1fzGnFwz9M                                                                                                                                                                                                                                                                                                                                                                                                                                                   \n",
      " tags          | cartoon|simons cat|simon's cat|simonscat|simon tofield|simon the cat|funny cats|cute cats|cat fails|family friendly|animated animals|short animation|animated cats|tofield|simon's katze|simon|cat|black and white|kitty|traditional animation|black and white cat|Кот Саймона|cat lovers|animal (film character)|fail|funny cat|cats|cute|kitten|kittens|pets|simons cats|Cat|Simon|Tofield|cartoons|Toons|Animated|Animation|Kitten|Funny|Humour|fun|videos \n",
      " comment_text  | I make interesting cartoons and I need your help! Go to the channel, rate my work!                                                                                                                                                                                                                                                                                                                                                                            \n",
      " comment_likes | 839                                                                                                                                                                                                                                                                                                                                                                                                                                                           \n",
      "only showing top 5 rows\n",
      "\n"
     ]
    }
   ],
   "source": [
    "(\n",
    "    tags\n",
    "    .filter(\n",
    "        F.array_contains(F.col('splitted_tags'), 'cat')\n",
    "    )\n",
    "    .join(comments.withColumnRenamed('likes', 'comment_likes'), on='video_id', how='inner')\n",
    "    .select('video_id', 'tags', 'comment_text', 'comment_likes')\n",
    "    .distinct()\n",
    "    .orderBy(F.desc('comment_likes'))\n",
    ").show(5, truncate=False, vertical=True)"
   ]
  },
  {
   "cell_type": "code",
   "execution_count": 56,
   "id": "1d35d187-d00a-490b-9b1c-af71db4af31a",
   "metadata": {},
   "outputs": [],
   "source": [
    "spark.stop()"
   ]
  },
  {
   "cell_type": "code",
   "execution_count": null,
   "id": "dd6a8f83-1cd5-411d-9be7-8771c2a3fd04",
   "metadata": {},
   "outputs": [],
   "source": []
  }
 ],
 "metadata": {
  "kernelspec": {
   "display_name": "Python 3 (ipykernel)",
   "language": "python",
   "name": "python3"
  },
  "language_info": {
   "codemirror_mode": {
    "name": "ipython",
    "version": 3
   },
   "file_extension": ".py",
   "mimetype": "text/x-python",
   "name": "python",
   "nbconvert_exporter": "python",
   "pygments_lexer": "ipython3",
   "version": "3.11.3"
  }
 },
 "nbformat": 4,
 "nbformat_minor": 5
}