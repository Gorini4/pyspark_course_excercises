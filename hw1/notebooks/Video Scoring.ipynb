{
 "cells": [
  {
   "cell_type": "markdown",
   "id": "8a11ca2a-b03b-4c2f-a783-313f0985c855",
   "metadata": {},
   "source": [
    "# Загрузка данных"
   ]
  },
  {
   "cell_type": "code",
   "execution_count": 1,
   "id": "2e1276a5-c99f-45c8-8448-91f6aa29e07b",
   "metadata": {},
   "outputs": [],
   "source": [
    "# !pip install kaggle"
   ]
  },
  {
   "cell_type": "markdown",
   "id": "967ab56f-dcdc-4236-b366-64909e1747ab",
   "metadata": {},
   "source": [
    "Нужен свой токен с kaggle"
   ]
  },
  {
   "cell_type": "code",
   "execution_count": 2,
   "id": "5e2c326d-638c-422b-a425-4a953a436b90",
   "metadata": {},
   "outputs": [],
   "source": [
    "!echo '{\"username\":\"\",\"key\":\"\"}' > ../.kaggle/kaggle.json"
   ]
  },
  {
   "cell_type": "code",
   "execution_count": 3,
   "id": "d1da657c-bff4-4d05-bf27-2a3f048a2c25",
   "metadata": {},
   "outputs": [
    {
     "name": "stdout",
     "output_type": "stream",
     "text": [
      "Warning: Your Kaggle API key is readable by other users on this system! To fix this, you can run 'chmod 600 /home/jovyan/.kaggle/kaggle.json'\n",
      "Downloading youtube.zip to ../datasets\n",
      "100%|██████████████████████████████████████| 55.9M/55.9M [00:15<00:00, 6.77MB/s]\n",
      "100%|██████████████████████████████████████| 55.9M/55.9M [00:15<00:00, 3.72MB/s]\n"
     ]
    }
   ],
   "source": [
    "!kaggle datasets download -d datasnaek/youtube -p ../datasets --unzip"
   ]
  },
  {
   "cell_type": "code",
   "execution_count": 4,
   "id": "4b94b2e0-3796-411b-ad82-1b56e7f89e1f",
   "metadata": {},
   "outputs": [],
   "source": [
    "import pyspark\n",
    "import pyspark.sql.functions as F\n",
    "import pyspark.sql.types as T\n",
    "from pyspark.sql import SparkSession\n",
    "\n",
    "spark = SparkSession.builder.master(\"local\") \\\n",
    "    .config('spark.sql.autoBroadcastJoinThreshold', 0) \\\n",
    "    .config('spark.sql.adaptive.enabled', 'false') \\\n",
    "    .getOrCreate()"
   ]
  },
  {
   "cell_type": "markdown",
   "id": "e96426ef-7cb7-4b79-937e-f19f3d1fd9a3",
   "metadata": {},
   "source": [
    "# Задание 1"
   ]
  },
  {
   "cell_type": "markdown",
   "id": "cedf726b-977d-4edd-b226-528dab9aa66a",
   "metadata": {},
   "source": [
    "scored_videos - датасет на основе файла USvideos.csv с добавлением колонки, содержащей скор (показатель качества) видео. Никто не знает, как считать скор, поэтому формулу предлагается придумать вам. Но она должна включать в себя просмотры, лайки, дизлайки видео, лайки и дизлайки к комментариям к этому видео."
   ]
  },
  {
   "cell_type": "code",
   "execution_count": 5,
   "id": "1c2a19f1-09d4-433b-bb14-495e1f69bf43",
   "metadata": {},
   "outputs": [
    {
     "name": "stdout",
     "output_type": "stream",
     "text": [
      "+-----------+--------------------+----------------+-----------+--------------------+-------+------+--------+-------------+--------------------+-----+\n",
      "|   video_id|               title|   channel_title|category_id|                tags|  views| likes|dislikes|comment_total|      thumbnail_link| date|\n",
      "+-----------+--------------------+----------------+-----------+--------------------+-------+------+--------+-------------+--------------------+-----+\n",
      "|XpVt6Z1Gjjo|1 YEAR OF VLOGGIN...|Logan Paul Vlogs|         24|logan paul vlog|l...|4394029|320053|    5931|        46245|https://i.ytimg.c...|13.09|\n",
      "|K4wEI5zhHB0|iPhone X — Introd...|           Apple|         28|Apple|iPhone 10|i...|7860119|185853|   26679|            0|https://i.ytimg.c...|13.09|\n",
      "|cLdxuaxaQwc|         My Response|       PewDiePie|         22|              [none]|5845909|576597|   39774|       170708|https://i.ytimg.c...|13.09|\n",
      "|WYYvHb03Eog|Apple iPhone X fi...|       The Verge|         28|apple iphone x ha...|2642103| 24975|    4542|        12829|https://i.ytimg.c...|13.09|\n",
      "|sjlHnJvXdQs|   iPhone X (parody)|      jacksfilms|         23|jacksfilms|parody...|1168130| 96666|     568|         6666|https://i.ytimg.c...|13.09|\n",
      "+-----------+--------------------+----------------+-----------+--------------------+-------+------+--------+-------------+--------------------+-----+\n",
      "only showing top 5 rows\n",
      "\n"
     ]
    }
   ],
   "source": [
    "videos = spark.read.option('header', 'true').option(\"inferSchema\", \"true\").csv('../datasets/USvideos.csv')\n",
    "videos.show(5)"
   ]
  },
  {
   "cell_type": "code",
   "execution_count": 6,
   "id": "67149cf3-3a98-4679-81ab-4ec159309387",
   "metadata": {},
   "outputs": [
    {
     "data": {
      "text/plain": [
       "7998"
      ]
     },
     "execution_count": 6,
     "metadata": {},
     "output_type": "execute_result"
    }
   ],
   "source": [
    "videos.count()"
   ]
  },
  {
   "cell_type": "code",
   "execution_count": 7,
   "id": "805005cc-0c92-45e3-ab79-44a348f9c2d3",
   "metadata": {},
   "outputs": [
    {
     "name": "stdout",
     "output_type": "stream",
     "text": [
      "+-----------+--------------------+-----+-------+\n",
      "|   video_id|        comment_text|likes|replies|\n",
      "+-----------+--------------------+-----+-------+\n",
      "|XpVt6Z1Gjjo|Logan Paul it's y...|    4|      0|\n",
      "|XpVt6Z1Gjjo|I've been followi...|    3|      0|\n",
      "|XpVt6Z1Gjjo|Say hi to Kong an...|    3|      0|\n",
      "|XpVt6Z1Gjjo| MY FAN . attendance|    3|      0|\n",
      "|XpVt6Z1Gjjo|         trending 😉|    3|      0|\n",
      "+-----------+--------------------+-----+-------+\n",
      "only showing top 5 rows\n",
      "\n"
     ]
    }
   ],
   "source": [
    "comments_schema = T.StructType([\n",
    "    T.StructField(\"video_id\", T.StringType(), True),\n",
    "    T.StructField(\"comment_text\", T.StringType(), True),\n",
    "    T.StructField(\"likes\", T.IntegerType(), True),\n",
    "    T.StructField(\"replies\", T.IntegerType(), True)\n",
    "])\n",
    "comments = spark.read.option('header', 'true').option(\"mode\", \"DROPMALFORMED\").schema(comments_schema).csv('../datasets/UScomments.csv')\n",
    "comments.show(5)"
   ]
  },
  {
   "cell_type": "code",
   "execution_count": 8,
   "id": "d49d5e3c-f3d4-467a-a5dd-32c8a87f1fd1",
   "metadata": {},
   "outputs": [
    {
     "data": {
      "text/plain": [
       "691722"
      ]
     },
     "execution_count": 8,
     "metadata": {},
     "output_type": "execute_result"
    }
   ],
   "source": [
    "comments.count()"
   ]
  },
  {
   "cell_type": "markdown",
   "id": "83197e00-81cd-440b-a124-1989423752b9",
   "metadata": {},
   "source": [
    "Предлагаю ранжировать видео через линейную комбинацию признаков. Поскольку нет меток для регрессии, веса для признаков выберу по интуиции. Так мы получим некое значение по степени \"крутости\". Поскольку у одного ролиа может быть несколько комментариев, для простоты можно посчитать агрегацию по лайкам и ответам, например, сумму"
   ]
  },
  {
   "cell_type": "markdown",
   "id": "57f47bb2-c572-48f9-b249-d13398f74bd0",
   "metadata": {},
   "source": [
    "## $$w_1 * views + w_2 * likes + w_3 * dislikes + w_4 * sum(comments\\_likes) + w_5 * sum(comments\\_replies)$$"
   ]
  },
  {
   "cell_type": "code",
   "execution_count": 9,
   "id": "6606f6ca-9dcc-4f38-809f-b10831f972c9",
   "metadata": {},
   "outputs": [],
   "source": [
    "comments_agg = (\n",
    "    comments\n",
    "    .groupBy(F.col('video_id'))\n",
    "    .agg(\n",
    "        F.sum(F.col('likes')).alias('comments_likes'),\n",
    "        F.sum(F.col('replies')).alias('comments_replies'),\n",
    "    )\n",
    ")"
   ]
  },
  {
   "cell_type": "code",
   "execution_count": 10,
   "id": "e6f5523f-020d-4147-833e-94cee17a209c",
   "metadata": {},
   "outputs": [
    {
     "name": "stdout",
     "output_type": "stream",
     "text": [
      "+-----------+--------------+----------------+\n",
      "|   video_id|comments_likes|comments_replies|\n",
      "+-----------+--------------+----------------+\n",
      "|xPS7bqBePSs|          1037|              28|\n",
      "|dInwVhRtN4E|            63|              13|\n",
      "|rn5Xgak1zzA|            14|               7|\n",
      "|TzyraAp3jaY|          1126|              48|\n",
      "|eHq6ZA6uKOg|           797|             138|\n",
      "+-----------+--------------+----------------+\n",
      "only showing top 5 rows\n",
      "\n"
     ]
    }
   ],
   "source": [
    "comments_agg.show(5)"
   ]
  },
  {
   "cell_type": "code",
   "execution_count": 11,
   "id": "1c07039f-fdfb-487b-a89e-39d2ea64e2f2",
   "metadata": {},
   "outputs": [],
   "source": [
    "videos = (\n",
    "    videos\n",
    "    .join(comments_agg, on='video_id', how='left')\n",
    ")"
   ]
  },
  {
   "cell_type": "code",
   "execution_count": 12,
   "id": "845e033d-fc90-4fd5-8892-6a0f17e3d03c",
   "metadata": {},
   "outputs": [
    {
     "name": "stdout",
     "output_type": "stream",
     "text": [
      "+-----------+--------------------+-------+------+--------+--------------+----------------+\n",
      "|   video_id|               title|  views| likes|dislikes|comments_likes|comments_replies|\n",
      "+-----------+--------------------+-------+------+--------+--------------+----------------+\n",
      "|WYYvHb03Eog|Apple iPhone X fi...|2642103| 24975|    4542|           158|              16|\n",
      "|K4wEI5zhHB0|iPhone X — Introd...|7860119|185853|   26679|          null|            null|\n",
      "|sjlHnJvXdQs|   iPhone X (parody)|1168130| 96666|     568|           206|              17|\n",
      "|cLdxuaxaQwc|         My Response|5845909|576597|   39774|           176|              70|\n",
      "|XpVt6Z1Gjjo|1 YEAR OF VLOGGIN...|4394029|320053|    5931|           202|              24|\n",
      "+-----------+--------------------+-------+------+--------+--------------+----------------+\n",
      "only showing top 5 rows\n",
      "\n"
     ]
    }
   ],
   "source": [
    "videos.select('video_id', 'title', 'views', 'likes', 'dislikes', 'comments_likes', 'comments_replies').show(5)"
   ]
  },
  {
   "cell_type": "code",
   "execution_count": 13,
   "id": "c9a08f79-3939-495d-a6eb-0516fa00089d",
   "metadata": {},
   "outputs": [],
   "source": [
    "@F.udf(returnType=T.FloatType())\n",
    "def model_score(\n",
    "    views,\n",
    "    likes,\n",
    "    dislikes,\n",
    "    comments_likes,\n",
    "    comments_replies,\n",
    "    w_1: float = 0.1, \n",
    "    w_2: float = 10.0,\n",
    "    w_3: float = -100.0,\n",
    "    w_4: float = 2.0,\n",
    "    w_5: float = 1.0,\n",
    "):\n",
    "    score = w_1 * views + w_2 * likes + w_3 * dislikes + w_4 * comments_likes + w_5 * comments_replies\n",
    "    return score"
   ]
  },
  {
   "cell_type": "markdown",
   "id": "aa794438-78cb-40cb-a76d-5daf4978b5ef",
   "metadata": {},
   "source": [
    "подстелим соломку и обработаем пропуски"
   ]
  },
  {
   "cell_type": "code",
   "execution_count": 14,
   "id": "bf9f6525-92af-446b-9b6f-74f98884de4b",
   "metadata": {},
   "outputs": [],
   "source": [
    "scored_videos = (\n",
    "    videos\n",
    "    .na.fill({'views': 0, 'likes': 0, 'dislikes': 0, 'comments_likes': 0, 'comments_replies': 0})\n",
    "    .withColumn('model_score',\n",
    "                model_score(F.col('views'), F.col('likes'), F.col('dislikes'), F.col('comments_likes'), F.col('comments_replies'))\n",
    "               )\n",
    ")"
   ]
  },
  {
   "cell_type": "code",
   "execution_count": 15,
   "id": "2493debc-ec24-4b6d-a23f-85ac6a76eb7c",
   "metadata": {},
   "outputs": [
    {
     "name": "stdout",
     "output_type": "stream",
     "text": [
      "+-----------+--------------------+-------+------+--------+--------------+----------------+-----------+\n",
      "|   video_id|               title|  views| likes|dislikes|comments_likes|comments_replies|model_score|\n",
      "+-----------+--------------------+-------+------+--------+--------------+----------------+-----------+\n",
      "|WYYvHb03Eog|Apple iPhone X fi...|2642103| 24975|    4542|           158|              16|    60092.3|\n",
      "|K4wEI5zhHB0|iPhone X — Introd...|7860119|185853|   26679|             0|               0|   -23358.1|\n",
      "|sjlHnJvXdQs|   iPhone X (parody)|1168130| 96666|     568|           206|              17|  1027102.0|\n",
      "|cLdxuaxaQwc|         My Response|5845909|576597|   39774|           176|              70|  2373583.0|\n",
      "|zgLtEob6X-Q|Honest Trailers -...|1056891| 29943|     878|            48|               2|   317417.1|\n",
      "|Ayb_2qbZHm4| Honest College Tour| 859289| 34485|     726|            64|              20|   358326.9|\n",
      "|8wNr-NQImFg|The Check In: HUD...| 666169|  9985|     297|            51|              14|   136882.9|\n",
      "|XpVt6Z1Gjjo|1 YEAR OF VLOGGIN...|4394029|320053|    5931|           202|              24|  3047261.0|\n",
      "|_ANP3HR1jsM|ATTACKED BY A POL...|1338533| 69687|     678|         12659|            2456|   790697.3|\n",
      "|_HTXMhKWqnA|iPhone X Impressi...|1728614| 74062|    2180|            42|               3|   695568.4|\n",
      "+-----------+--------------------+-------+------+--------+--------------+----------------+-----------+\n",
      "only showing top 10 rows\n",
      "\n"
     ]
    }
   ],
   "source": [
    "scored_videos.select('video_id', 'title', 'views', 'likes', 'dislikes', 'comments_likes', 'comments_replies', 'model_score').show(10)"
   ]
  },
  {
   "cell_type": "markdown",
   "id": "5a59a09f-e1fc-48c2-ba40-014021546982",
   "metadata": {},
   "source": [
    "## Задание 2"
   ]
  },
  {
   "cell_type": "markdown",
   "id": "0fce2e32-12f0-4ddf-a1fd-8170503d55f0",
   "metadata": {},
   "source": [
    "categories_score - датасет по категориям, в котором присутствуют следующие поля: Название категории (не id, он непонятный для аналитиков!). Медиана показателя score из датасета scored_videos по каждой категории."
   ]
  },
  {
   "cell_type": "markdown",
   "id": "86b2d200-2aba-4634-a3dd-ab2733d2f4fe",
   "metadata": {},
   "source": [
    "Для расчета медианы нельзя использовать встроенную Spark-функцию median из пакета pyspark.sql.functions"
   ]
  },
  {
   "cell_type": "markdown",
   "id": "ad87fafa-cc9f-4435-9fe2-4b3978993464",
   "metadata": {},
   "source": [
    "Сначала прочитаем категории, извлечем их названия, а потом подклеим по category_id к видео"
   ]
  },
  {
   "cell_type": "code",
   "execution_count": 16,
   "id": "654f6002-eca9-4d5c-a4c8-ab60e5a066eb",
   "metadata": {},
   "outputs": [],
   "source": [
    "category_schema = T.StructType([\n",
    "    T.StructField(\"etag\", T.StringType(), True),\n",
    "    T.StructField(\"kind\", T.StringType(), True),\n",
    "    T.StructField(\"items\", T.ArrayType(T.MapType(T.StringType(), T.StringType(), True), True)),\n",
    "])"
   ]
  },
  {
   "cell_type": "code",
   "execution_count": 17,
   "id": "42ac09fd-b57a-4c1e-957f-62ce2580c73e",
   "metadata": {},
   "outputs": [
    {
     "name": "stdout",
     "output_type": "stream",
     "text": [
      "+--------------------+--------------------+--------------------+\n",
      "|                etag|                kind|               items|\n",
      "+--------------------+--------------------+--------------------+\n",
      "|\"m2yskBQFythfE4ir...|youtube#videoCate...|{kind -> youtube#...|\n",
      "|\"m2yskBQFythfE4ir...|youtube#videoCate...|{kind -> youtube#...|\n",
      "|\"m2yskBQFythfE4ir...|youtube#videoCate...|{kind -> youtube#...|\n",
      "|\"m2yskBQFythfE4ir...|youtube#videoCate...|{kind -> youtube#...|\n",
      "|\"m2yskBQFythfE4ir...|youtube#videoCate...|{kind -> youtube#...|\n",
      "|\"m2yskBQFythfE4ir...|youtube#videoCate...|{kind -> youtube#...|\n",
      "|\"m2yskBQFythfE4ir...|youtube#videoCate...|{kind -> youtube#...|\n",
      "|\"m2yskBQFythfE4ir...|youtube#videoCate...|{kind -> youtube#...|\n",
      "|\"m2yskBQFythfE4ir...|youtube#videoCate...|{kind -> youtube#...|\n",
      "|\"m2yskBQFythfE4ir...|youtube#videoCate...|{kind -> youtube#...|\n",
      "|\"m2yskBQFythfE4ir...|youtube#videoCate...|{kind -> youtube#...|\n",
      "|\"m2yskBQFythfE4ir...|youtube#videoCate...|{kind -> youtube#...|\n",
      "|\"m2yskBQFythfE4ir...|youtube#videoCate...|{kind -> youtube#...|\n",
      "|\"m2yskBQFythfE4ir...|youtube#videoCate...|{kind -> youtube#...|\n",
      "|\"m2yskBQFythfE4ir...|youtube#videoCate...|{kind -> youtube#...|\n",
      "|\"m2yskBQFythfE4ir...|youtube#videoCate...|{kind -> youtube#...|\n",
      "|\"m2yskBQFythfE4ir...|youtube#videoCate...|{kind -> youtube#...|\n",
      "|\"m2yskBQFythfE4ir...|youtube#videoCate...|{kind -> youtube#...|\n",
      "|\"m2yskBQFythfE4ir...|youtube#videoCate...|{kind -> youtube#...|\n",
      "|\"m2yskBQFythfE4ir...|youtube#videoCate...|{kind -> youtube#...|\n",
      "+--------------------+--------------------+--------------------+\n",
      "only showing top 20 rows\n",
      "\n"
     ]
    }
   ],
   "source": [
    "category = spark.read.option(\"multiline\",\"true\").json('../datasets/US_category_id.json', schema=category_schema)\n",
    "category = category.withColumn('items', F.explode(F.col('items')))\n",
    "category.show()"
   ]
  },
  {
   "cell_type": "markdown",
   "id": "0ab0b5fd-e2b6-48af-8899-198d56a57276",
   "metadata": {},
   "source": [
    "Достанем заголовок из вложения"
   ]
  },
  {
   "cell_type": "code",
   "execution_count": 18,
   "id": "f4a88e1f-a8f2-4528-9238-d023dca2458b",
   "metadata": {},
   "outputs": [],
   "source": [
    "snippet_schema = T.StructType([\n",
    "    T.StructField(\"channelId\", T.StringType(), True),\n",
    "    T.StructField(\"title\", T.StringType(), True),\n",
    "    T.StructField(\"assignable\", T.BooleanType(), True),\n",
    "])"
   ]
  },
  {
   "cell_type": "code",
   "execution_count": 19,
   "id": "6c7779d1-91b4-4433-8b7b-2d5330c2f83c",
   "metadata": {},
   "outputs": [],
   "source": [
    "category = (\n",
    "    category\n",
    "    .withColumn('snippet_json',\n",
    "                F.from_json(F.col('items.snippet'), schema=snippet_schema)\n",
    "               )\n",
    "    .select(\n",
    "        F.col('items.id').alias('category_id'),\n",
    "        F.col('snippet_json.title').alias('category_title')\n",
    "    )\n",
    ")"
   ]
  },
  {
   "cell_type": "code",
   "execution_count": 20,
   "id": "6ff37141-43e4-4953-a58e-638322fa3022",
   "metadata": {},
   "outputs": [
    {
     "name": "stdout",
     "output_type": "stream",
     "text": [
      "+-----------+--------------------+\n",
      "|category_id|      category_title|\n",
      "+-----------+--------------------+\n",
      "|          1|    Film & Animation|\n",
      "|          2|    Autos & Vehicles|\n",
      "|         10|               Music|\n",
      "|         15|      Pets & Animals|\n",
      "|         17|              Sports|\n",
      "|         18|        Short Movies|\n",
      "|         19|     Travel & Events|\n",
      "|         20|              Gaming|\n",
      "|         21|       Videoblogging|\n",
      "|         22|      People & Blogs|\n",
      "|         23|              Comedy|\n",
      "|         24|       Entertainment|\n",
      "|         25|     News & Politics|\n",
      "|         26|       Howto & Style|\n",
      "|         27|           Education|\n",
      "|         28|Science & Technology|\n",
      "|         29|Nonprofits & Acti...|\n",
      "|         30|              Movies|\n",
      "|         31|     Anime/Animation|\n",
      "|         32|    Action/Adventure|\n",
      "+-----------+--------------------+\n",
      "only showing top 20 rows\n",
      "\n"
     ]
    }
   ],
   "source": [
    "category.show()"
   ]
  },
  {
   "cell_type": "code",
   "execution_count": 21,
   "id": "322a80e2-fdc7-41d4-ac78-cdfba06a1536",
   "metadata": {},
   "outputs": [
    {
     "data": {
      "text/plain": [
       "32"
      ]
     },
     "execution_count": 21,
     "metadata": {},
     "output_type": "execute_result"
    }
   ],
   "source": [
    "category.count()"
   ]
  },
  {
   "cell_type": "markdown",
   "id": "910a200c-cf2d-4c52-8bb0-d1ecd0605498",
   "metadata": {},
   "source": [
    "Возможно, тут лучше broadcast сделать, так как категорий мало"
   ]
  },
  {
   "cell_type": "code",
   "execution_count": 22,
   "id": "cfecd6b9-dae2-4e60-b8d0-a50c0c0e61d9",
   "metadata": {},
   "outputs": [],
   "source": [
    "categories_score = (\n",
    "    scored_videos\n",
    "    .join(F.broadcast(category), on='category_id', how='left')\n",
    ")"
   ]
  },
  {
   "cell_type": "code",
   "execution_count": 23,
   "id": "dc71220a-1d73-4407-9321-32f5c4c03f3c",
   "metadata": {},
   "outputs": [
    {
     "name": "stdout",
     "output_type": "stream",
     "text": [
      "== Physical Plan ==\n",
      "*(6) Project [category_id#20, video_id#17, title#18, channel_title#19, tags#21, views#256, likes#257, dislikes#258, comment_total#25, thumbnail_link#26, date#27, comments_likes#259L, comments_replies#260L, model_score#275, category_title#377]\n",
      "+- *(6) BroadcastHashJoin [category_id#20], [cast(category_id#376 as int)], LeftOuter, BuildRight, false\n",
      "   :- *(6) Project [video_id#17, title#18, channel_title#19, category_id#20, tags#21, views#256, likes#257, dislikes#258, comment_total#25, thumbnail_link#26, date#27, comments_likes#259L, comments_replies#260L, pythonUDF0#415 AS model_score#275]\n",
      "   :  +- BatchEvalPython [model_score(views#256, likes#257, dislikes#258, comments_likes#259L, comments_replies#260L)#274], [pythonUDF0#415]\n",
      "   :     +- *(4) Project [video_id#17, title#18, channel_title#19, category_id#20, tags#21, coalesce(views#22, 0) AS views#256, coalesce(likes#23, 0) AS likes#257, coalesce(dislikes#24, 0) AS dislikes#258, comment_total#25, thumbnail_link#26, date#27, coalesce(comments_likes#156L, 0) AS comments_likes#259L, coalesce(comments_replies#158L, 0) AS comments_replies#260L]\n",
      "   :        +- *(4) SortMergeJoin [video_id#17], [video_id#112], LeftOuter\n",
      "   :           :- *(1) Sort [video_id#17 ASC NULLS FIRST], false, 0\n",
      "   :           :  +- Exchange hashpartitioning(video_id#17, 200), ENSURE_REQUIREMENTS, [plan_id=495]\n",
      "   :           :     +- FileScan csv [video_id#17,title#18,channel_title#19,category_id#20,tags#21,views#22,likes#23,dislikes#24,comment_total#25,thumbnail_link#26,date#27] Batched: false, DataFilters: [], Format: CSV, Location: InMemoryFileIndex(1 paths)[file:/home/jovyan/datasets/USvideos.csv], PartitionFilters: [], PushedFilters: [], ReadSchema: struct<video_id:string,title:string,channel_title:string,category_id:int,tags:string,views:int,li...\n",
      "   :           +- *(3) Sort [video_id#112 ASC NULLS FIRST], false, 0\n",
      "   :              +- *(3) HashAggregate(keys=[video_id#112], functions=[sum(likes#114), sum(replies#115)])\n",
      "   :                 +- Exchange hashpartitioning(video_id#112, 200), ENSURE_REQUIREMENTS, [plan_id=514]\n",
      "   :                    +- *(2) HashAggregate(keys=[video_id#112], functions=[partial_sum(likes#114), partial_sum(replies#115)])\n",
      "   :                       +- *(2) Filter isnotnull(video_id#112)\n",
      "   :                          +- FileScan csv [video_id#112,likes#114,replies#115] Batched: false, DataFilters: [isnotnull(video_id#112)], Format: CSV, Location: InMemoryFileIndex(1 paths)[file:/home/jovyan/datasets/UScomments.csv], PartitionFilters: [], PushedFilters: [IsNotNull(video_id)], ReadSchema: struct<video_id:string,likes:int,replies:int>\n",
      "   +- BroadcastExchange HashedRelationBroadcastMode(List(cast(cast(input[0, string, true] as int) as bigint)),false), [plan_id=532]\n",
      "      +- Project [items#349[id] AS category_id#376, from_json(StructField(title,StringType,true), items#349[snippet], Some(Etc/UTC)).title AS category_title#377]\n",
      "         +- *(5) Filter isnotnull(items#349[id])\n",
      "            +- *(5) Generate explode(items#344), false, [items#349]\n",
      "               +- *(5) Filter ((size(items#344, true) > 0) AND isnotnull(items#344))\n",
      "                  +- FileScan json [items#344] Batched: false, DataFilters: [(size(items#344, true) > 0), isnotnull(items#344)], Format: JSON, Location: InMemoryFileIndex(1 paths)[file:/home/jovyan/datasets/US_category_id.json], PartitionFilters: [], PushedFilters: [IsNotNull(items)], ReadSchema: struct<items:array<map<string,string>>>\n",
      "\n",
      "\n"
     ]
    }
   ],
   "source": [
    "categories_score.explain()"
   ]
  },
  {
   "cell_type": "code",
   "execution_count": 24,
   "id": "2ab3bd0a-d66f-4151-af2f-f5e64a3d0918",
   "metadata": {},
   "outputs": [
    {
     "name": "stdout",
     "output_type": "stream",
     "text": [
      "+-----------+-----------+--------------------+-----------+\n",
      "|   video_id|category_id|      category_title|model_score|\n",
      "+-----------+-----------+--------------------+-----------+\n",
      "|WYYvHb03Eog|         28|Science & Technology|    60092.3|\n",
      "|K4wEI5zhHB0|         28|Science & Technology|   -23358.1|\n",
      "|sjlHnJvXdQs|         23|              Comedy|  1027102.0|\n",
      "|cLdxuaxaQwc|         22|      People & Blogs|  2373583.0|\n",
      "|zgLtEob6X-Q|          1|    Film & Animation|   317417.1|\n",
      "|Ayb_2qbZHm4|         23|              Comedy|   358326.9|\n",
      "|8wNr-NQImFg|         23|              Comedy|   136882.9|\n",
      "|XpVt6Z1Gjjo|         24|       Entertainment|  3047261.0|\n",
      "|_ANP3HR1jsM|         22|      People & Blogs|   790697.3|\n",
      "|_HTXMhKWqnA|         28|Science & Technology|   695568.4|\n",
      "+-----------+-----------+--------------------+-----------+\n",
      "only showing top 10 rows\n",
      "\n"
     ]
    }
   ],
   "source": [
    "categories_score.select('video_id', 'category_id', 'category_title', 'model_score').show(10)"
   ]
  },
  {
   "cell_type": "markdown",
   "id": "f04ca112-713e-45da-99b9-f66cec0b4582",
   "metadata": {},
   "source": [
    "Теперь сгруппируем и посчитаем медиану по скорингу"
   ]
  },
  {
   "cell_type": "code",
   "execution_count": 25,
   "id": "9097cc79-ba30-43f4-a613-a38e05038f84",
   "metadata": {},
   "outputs": [],
   "source": [
    "import numpy as np\n",
    "import pandas as pd"
   ]
  },
  {
   "cell_type": "code",
   "execution_count": 26,
   "id": "96780d10-486a-4200-a1ba-6aeac4982742",
   "metadata": {},
   "outputs": [
    {
     "name": "stderr",
     "output_type": "stream",
     "text": [
      "/usr/local/spark/python/pyspark/sql/pandas/functions.py:399: UserWarning: In Python 3.6+ and Spark 3.0+, it is preferred to specify type hints for pandas UDF instead of specifying pandas UDF type which will be deprecated in the future releases. See SPARK-28264 for more details.\n",
      "  warnings.warn(\n"
     ]
    }
   ],
   "source": [
    "@F.pandas_udf(T.FloatType(), F.PandasUDFType.GROUPED_AGG)\n",
    "def median(scores) -> float:\n",
    "    return np.median(scores)"
   ]
  },
  {
   "cell_type": "code",
   "execution_count": 27,
   "id": "db84c578-240c-42d3-8b69-5880a8ea2ad2",
   "metadata": {},
   "outputs": [],
   "source": [
    "categories_score = (\n",
    "    categories_score\n",
    "    .groupBy('category_title')\n",
    "    .agg(\n",
    "        median(F.col('model_score')).alias('median_model_score')\n",
    "    )\n",
    ")"
   ]
  },
  {
   "cell_type": "code",
   "execution_count": 28,
   "id": "0f2ce68c-94ca-4d37-97ec-7ae08b1fc021",
   "metadata": {},
   "outputs": [
    {
     "name": "stdout",
     "output_type": "stream",
     "text": [
      "+--------------------+------------------+\n",
      "|      category_title|median_model_score|\n",
      "+--------------------+------------------+\n",
      "|               Shows|           1363.25|\n",
      "|Nonprofits & Acti...|         4697.8496|\n",
      "|     News & Politics|            4839.5|\n",
      "|              Sports|           20351.2|\n",
      "|    Autos & Vehicles|          21810.05|\n",
      "|              Gaming|           44072.0|\n",
      "|    Film & Animation|           73552.0|\n",
      "|       Entertainment|           81670.6|\n",
      "|           Education|           81915.9|\n",
      "|      Pets & Animals|           85878.1|\n",
      "|Science & Technology|          89047.05|\n",
      "|     Travel & Events|          95248.41|\n",
      "|      People & Blogs|           95632.2|\n",
      "|               Music|         107226.95|\n",
      "|       Howto & Style|         125808.91|\n",
      "|              Comedy|          215351.9|\n",
      "+--------------------+------------------+\n",
      "\n"
     ]
    }
   ],
   "source": [
    "categories_score.orderBy('median_model_score').show()"
   ]
  },
  {
   "cell_type": "markdown",
   "id": "6d7df39f-0dbe-4d0e-87e3-c3c3bb08ef50",
   "metadata": {},
   "source": [
    "# Задание 3"
   ]
  },
  {
   "cell_type": "code",
   "execution_count": 29,
   "id": "9ed8eb64-0ddd-4790-bcd5-a158158ab553",
   "metadata": {},
   "outputs": [],
   "source": [
    "import time\n",
    "from tqdm import tqdm"
   ]
  },
  {
   "cell_type": "markdown",
   "id": "f78fdbdb-ab48-461f-b487-46d9c659bb22",
   "metadata": {},
   "source": [
    "popular_tags - датасет по самым популярным тэгам (название тэга + количество видео с этим тэгом). В исходном датасете тэги лежат строкой в поле tags. Другие разработчики уже сталкивались с подобной задачей, поэтому написали Scala-функцию для разбиения тегов. Но не доверяйте им вслепую! Обязательно напишите свою функцию разбиения строки на тэги и сравните время работы с её Scala-версией. Можно замерять своими силами, а можно воспользоваться библиотекой timeit."
   ]
  },
  {
   "cell_type": "code",
   "execution_count": 30,
   "id": "13e8b81e-2a06-431c-abbe-288171164264",
   "metadata": {},
   "outputs": [],
   "source": [
    "from pyspark.sql.column import Column\n",
    "from pyspark.sql.column import _to_java_column\n",
    "from pyspark.sql.column import _to_seq"
   ]
  },
  {
   "cell_type": "code",
   "execution_count": 31,
   "id": "78134a48-b4cb-46f7-8d35-2310750476a9",
   "metadata": {},
   "outputs": [],
   "source": [
    "sc = spark.sparkContext"
   ]
  },
  {
   "cell_type": "markdown",
   "id": "45aa2b5b-9d30-4c39-b593-6f082075238c",
   "metadata": {},
   "source": [
    "Посмотрим на Scala UDF"
   ]
  },
  {
   "cell_type": "code",
   "execution_count": 32,
   "id": "79b33d4c-0f4c-40be-9baf-76757340a813",
   "metadata": {},
   "outputs": [],
   "source": [
    "def scala_splitTags_udf_wrapper(tags):\n",
    "    splitTags_idf = sc._jvm.CustomUDFs.splitTagsUDF()\n",
    "    return Column(splitTags_idf.apply(_to_seq(sc, [tags], _to_java_column)))"
   ]
  },
  {
   "cell_type": "code",
   "execution_count": 33,
   "id": "9e771535-d878-4448-9a18-7ef6a8709d13",
   "metadata": {},
   "outputs": [
    {
     "name": "stderr",
     "output_type": "stream",
     "text": [
      "100%|██████████| 1000/1000 [01:17<00:00, 12.86it/s]\n"
     ]
    }
   ],
   "source": [
    "scala_times = []\n",
    "for _ in tqdm(range(1_000)):\n",
    "    start_time = time.time()\n",
    "    videos.withColumn('splitted_tags', scala_splitTags_udf_wrapper(F.col('tags'))).select('video_id', 'tags', 'splitted_tags').count()\n",
    "    work_time = time.time() - start_time\n",
    "    scala_times.append(work_time)"
   ]
  },
  {
   "cell_type": "code",
   "execution_count": 34,
   "id": "349ac69d-8e17-4caa-8b20-1063e7514d37",
   "metadata": {},
   "outputs": [
    {
     "data": {
      "text/plain": [
       "(0.07720073127746582, 0.015258046526695577)"
      ]
     },
     "execution_count": 34,
     "metadata": {},
     "output_type": "execute_result"
    }
   ],
   "source": [
    "np.mean(scala_times), np.std(scala_times)"
   ]
  },
  {
   "cell_type": "markdown",
   "id": "23311c5c-8993-499d-b5f0-b65675082414",
   "metadata": {},
   "source": [
    "Это было быстро..."
   ]
  },
  {
   "cell_type": "markdown",
   "id": "f2f3f7fb-d253-4b73-8314-4cdad2a82770",
   "metadata": {},
   "source": [
    "Теперь напишем свою UDF"
   ]
  },
  {
   "cell_type": "code",
   "execution_count": 35,
   "id": "7739e56c-3041-482e-a960-c5a88a91d5c1",
   "metadata": {},
   "outputs": [],
   "source": [
    "@F.pandas_udf(T.ArrayType(T.StringType(), True), F.PandasUDFType.SCALAR)\n",
    "def split_tags_custom_udf(tags):\n",
    "    return tags.split('|')"
   ]
  },
  {
   "cell_type": "code",
   "execution_count": 36,
   "id": "933ce80d-c401-45ff-bf85-fffb09141ec0",
   "metadata": {},
   "outputs": [
    {
     "name": "stderr",
     "output_type": "stream",
     "text": [
      "100%|██████████| 1000/1000 [01:06<00:00, 15.02it/s]\n"
     ]
    }
   ],
   "source": [
    "python_times = []\n",
    "for _ in tqdm(range(1_000)):\n",
    "    start_time = time.time()\n",
    "    videos.withColumn('splitted_tags', split_tags_custom_udf(F.col('tags'))).select('video_id', 'tags', 'splitted_tags').count()\n",
    "    work_time = time.time() - start_time\n",
    "    python_times.append(work_time)"
   ]
  },
  {
   "cell_type": "code",
   "execution_count": 37,
   "id": "5c8ca1f4-45fe-48e5-9326-744d9c55b567",
   "metadata": {},
   "outputs": [
    {
     "data": {
      "text/plain": [
       "(0.06611887526512146, 0.005023053088385481)"
      ]
     },
     "execution_count": 37,
     "metadata": {},
     "output_type": "execute_result"
    }
   ],
   "source": [
    "np.mean(python_times), np.std(python_times)"
   ]
  },
  {
   "cell_type": "markdown",
   "id": "efaa4378-a879-4e2b-8440-6febb76d3cab",
   "metadata": {},
   "source": [
    "По наблюдениям сложно сказать, какой вариант здесь значительно лучше, поскольку и тот и другой от итерации к итерации были быстрее. Возможно, при значительном объеме данных разница будет заметнее, но сейчас она мало на что влияет. Обычно, стандартное отклонение у pandas_udf повыше, нет уверенности, что данная реализация будет стабильна"
   ]
  },
  {
   "cell_type": "markdown",
   "id": "5cbd06ba-fc4d-4be1-a94c-563c235006d3",
   "metadata": {},
   "source": [
    "Выберем вариант со Scala UDF, потому что так интереснее"
   ]
  },
  {
   "cell_type": "code",
   "execution_count": 38,
   "id": "40245d10-7fa5-4686-90e0-000ad9c4977e",
   "metadata": {},
   "outputs": [],
   "source": [
    "tags = videos.withColumn('splitted_tags', scala_splitTags_udf_wrapper(F.col('tags'))).select('video_id', 'tags', 'splitted_tags')"
   ]
  },
  {
   "cell_type": "code",
   "execution_count": 39,
   "id": "387a2aa2-2b0c-40f8-ad9f-9d99419949b8",
   "metadata": {},
   "outputs": [
    {
     "name": "stdout",
     "output_type": "stream",
     "text": [
      "+-----------+--------------------+--------------------+\n",
      "|   video_id|                tags|       splitted_tags|\n",
      "+-----------+--------------------+--------------------+\n",
      "|XpVt6Z1Gjjo|logan paul vlog|l...|[logan paul vlog,...|\n",
      "|K4wEI5zhHB0|Apple|iPhone 10|i...|[Apple, iPhone 10...|\n",
      "|cLdxuaxaQwc|              [none]|            [[none]]|\n",
      "|WYYvHb03Eog|apple iphone x ha...|[apple iphone x h...|\n",
      "|sjlHnJvXdQs|jacksfilms|parody...|[jacksfilms, paro...|\n",
      "|cMKX2tE5Luk|a24|a24 films|a24...|[a24, a24 films, ...|\n",
      "|8wNr-NQImFg|Late night|Seth M...|[Late night, Seth...|\n",
      "|_HTXMhKWqnA|iPhone X|iphone x...|[iPhone X, iphone...|\n",
      "|_ANP3HR1jsM|Roman Atwood|Roma...|[Roman Atwood, Ro...|\n",
      "|zgLtEob6X-Q|screenjunkies|scr...|[screenjunkies, s...|\n",
      "|Ayb_2qbZHm4|Collegehumor|CH o...|[Collegehumor, CH...|\n",
      "|CsdzflTXBVQ|best floyd maywea...|[best floyd maywe...|\n",
      "|l864IBj7cgw|The Tonight Show|...|[The Tonight Show...|\n",
      "|4MkC65emkG4|mtv|video|online|...|[mtv, video, onli...|\n",
      "|vu_9muoxT50|America's Got Tal...|[America's Got Ta...|\n",
      "|1L7JFN7tQLs|Apple|iPhone X|iP...|[Apple, iPhone X,...|\n",
      "|ZQK1F0wz6z4|panda|what should...|[panda, what shou...|\n",
      "|T_PuZBdT2iM|skit|korean|langu...|[skit, korean, la...|\n",
      "|w8fAellnPns|how to|cooking|re...|[how to, cooking,...|\n",
      "|UCrBICYM0yM|downsizing|previe...|[downsizing, prev...|\n",
      "+-----------+--------------------+--------------------+\n",
      "only showing top 20 rows\n",
      "\n"
     ]
    }
   ],
   "source": [
    "tags.show()"
   ]
  },
  {
   "cell_type": "code",
   "execution_count": 40,
   "id": "73220727-e2d4-4d79-b8ac-df1dd7ab1f9b",
   "metadata": {},
   "outputs": [
    {
     "name": "stdout",
     "output_type": "stream",
     "text": [
      "root\n",
      " |-- video_id: string (nullable = true)\n",
      " |-- tags: string (nullable = true)\n",
      " |-- splitted_tags: array (nullable = true)\n",
      " |    |-- element: string (containsNull = true)\n",
      "\n"
     ]
    }
   ],
   "source": [
    "tags.printSchema()"
   ]
  },
  {
   "cell_type": "code",
   "execution_count": 41,
   "id": "b02dd74e-4796-4c72-9df6-0ecebc9a0c5a",
   "metadata": {},
   "outputs": [],
   "source": [
    "popular_tags = (\n",
    "    tags\n",
    "    .withColumn('tag', \n",
    "                F.explode(F.col('splitted_tags'))\n",
    "               )\n",
    "    .groupBy('tag')\n",
    "    .agg(\n",
    "        F.count(F.col('video_id')).alias('count_video_id')\n",
    "    )\n",
    "    .orderBy(F.desc('count_video_id'))\n",
    ")"
   ]
  },
  {
   "cell_type": "code",
   "execution_count": 42,
   "id": "2d102ad5-3fde-4130-9c05-79218b4d7b2f",
   "metadata": {},
   "outputs": [
    {
     "name": "stdout",
     "output_type": "stream",
     "text": [
      "+---------+--------------+\n",
      "|      tag|count_video_id|\n",
      "+---------+--------------+\n",
      "|    funny|           722|\n",
      "|   comedy|           572|\n",
      "|   [none]|           491|\n",
      "|     2017|           309|\n",
      "|   how to|           284|\n",
      "|     vlog|           273|\n",
      "|    humor|           258|\n",
      "|   makeup|           254|\n",
      "|    music|           250|\n",
      "| tutorial|           235|\n",
      "|     food|           224|\n",
      "|    video|           219|\n",
      "|   review|           218|\n",
      "|celebrity|           211|\n",
      "|     news|           211|\n",
      "|   beauty|           210|\n",
      "|interview|           209|\n",
      "|  science|           197|\n",
      "|      Pop|           190|\n",
      "|  trailer|           180|\n",
      "+---------+--------------+\n",
      "only showing top 20 rows\n",
      "\n"
     ]
    }
   ],
   "source": [
    "popular_tags.show()"
   ]
  },
  {
   "cell_type": "markdown",
   "id": "85fd28f5-2a92-45ab-841d-3002a2a9a316",
   "metadata": {},
   "source": [
    "# Задание 4"
   ]
  },
  {
   "cell_type": "markdown",
   "id": "6d4e7002-5c7d-487d-80d9-caf15f13733a",
   "metadata": {},
   "source": [
    "И личная просьба от Марка: он любит котов (а кто не их не любит!) и хочет найти самые интересные комментарии (топ-5) к видео про котов. “Видео про котов” - видео, у которого есть тэг “cat”."
   ]
  },
  {
   "cell_type": "code",
   "execution_count": 43,
   "id": "7c742bd6-7fc1-4f39-ba78-7244b23e1c82",
   "metadata": {},
   "outputs": [
    {
     "name": "stdout",
     "output_type": "stream",
     "text": [
      "+-----------+--------------------+--------------------+\n",
      "|   video_id|                tags|       splitted_tags|\n",
      "+-----------+--------------------+--------------------+\n",
      "|Vjc459T6wX8|Maru|cat|kitty|pe...|[Maru, cat, kitty...|\n",
      "|0Yhaei1S5oQ|SciShow|science|H...|[SciShow, science...|\n",
      "|-1fzGnFwz9M|cartoon|simons ca...|[cartoon, simons ...|\n",
      "|Vjc459T6wX8|Maru|cat|kitty|pe...|[Maru, cat, kitty...|\n",
      "|0Yhaei1S5oQ|SciShow|science|H...|[SciShow, science...|\n",
      "|Vjc459T6wX8|Maru|cat|kitty|pe...|[Maru, cat, kitty...|\n",
      "|Vjc459T6wX8|Maru|cat|kitty|pe...|[Maru, cat, kitty...|\n",
      "|BY3SLVNBkeo|cartoon|simons ca...|[cartoon, simons ...|\n",
      "|7V1J_MDi9Lg|Husky's First How...|[Husky's First Ho...|\n",
      "|BY3SLVNBkeo|cartoon|simons ca...|[cartoon, simons ...|\n",
      "|7V1J_MDi9Lg|Husky's First How...|[Husky's First Ho...|\n",
      "|BY3SLVNBkeo|cartoon|simons ca...|[cartoon, simons ...|\n",
      "|7V1J_MDi9Lg|Husky's First How...|[Husky's First Ho...|\n",
      "|BY3SLVNBkeo|cartoon|simons ca...|[cartoon, simons ...|\n",
      "|7V1J_MDi9Lg|Husky's First How...|[Husky's First Ho...|\n",
      "|BY3SLVNBkeo|cartoon|simons ca...|[cartoon, simons ...|\n",
      "|7V1J_MDi9Lg|Husky's First How...|[Husky's First Ho...|\n",
      "|tp9aQXDFHbY|cartoon|simons ca...|[cartoon, simons ...|\n",
      "|tp9aQXDFHbY|cartoon|simons ca...|[cartoon, simons ...|\n",
      "|tp9aQXDFHbY|cartoon|simons ca...|[cartoon, simons ...|\n",
      "+-----------+--------------------+--------------------+\n",
      "only showing top 20 rows\n",
      "\n"
     ]
    }
   ],
   "source": [
    "(\n",
    "    tags\n",
    "    .filter(\n",
    "        F.array_contains(F.col('splitted_tags'), 'cat')\n",
    "    )\n",
    ").show()"
   ]
  },
  {
   "cell_type": "code",
   "execution_count": 44,
   "id": "b8ebd25d-4566-4c00-9266-4c5bd99450d4",
   "metadata": {},
   "outputs": [],
   "source": [
    "spark.stop()"
   ]
  },
  {
   "cell_type": "code",
   "execution_count": null,
   "id": "1d35d187-d00a-490b-9b1c-af71db4af31a",
   "metadata": {},
   "outputs": [],
   "source": []
  }
 ],
 "metadata": {
  "kernelspec": {
   "display_name": "Python 3 (ipykernel)",
   "language": "python",
   "name": "python3"
  },
  "language_info": {
   "codemirror_mode": {
    "name": "ipython",
    "version": 3
   },
   "file_extension": ".py",
   "mimetype": "text/x-python",
   "name": "python",
   "nbconvert_exporter": "python",
   "pygments_lexer": "ipython3",
   "version": "3.11.3"
  }
 },
 "nbformat": 4,
 "nbformat_minor": 5
}